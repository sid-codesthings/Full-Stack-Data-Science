{
 "cells": [
  {
   "cell_type": "code",
   "execution_count": 2,
   "id": "996eeef7-4ac4-4bb4-96cf-93eac333faf0",
   "metadata": {},
   "outputs": [
    {
     "name": "stdout",
     "output_type": "stream",
     "text": [
      "P\n"
     ]
    }
   ],
   "source": [
    "str = \"Python\"\n",
    "print(str[0])"
   ]
  },
  {
   "cell_type": "code",
   "execution_count": 3,
   "id": "08d0a909-c88c-48f2-962c-7cef12af45f9",
   "metadata": {},
   "outputs": [
    {
     "data": {
      "text/plain": [
       "'th'"
      ]
     },
     "execution_count": 3,
     "metadata": {},
     "output_type": "execute_result"
    }
   ],
   "source": [
    "str[2:4]"
   ]
  },
  {
   "cell_type": "code",
   "execution_count": 4,
   "id": "92e59bdb-d140-41d9-9052-2a6ccfa9f4f0",
   "metadata": {},
   "outputs": [
    {
     "name": "stdout",
     "output_type": "stream",
     "text": [
      "noht\n"
     ]
    }
   ],
   "source": [
    "print(str[-1:1:-1])"
   ]
  },
  {
   "cell_type": "code",
   "execution_count": 6,
   "id": "2b4d2834-3864-4d08-a535-b9f8629ee3fc",
   "metadata": {},
   "outputs": [
    {
     "name": "stdout",
     "output_type": "stream",
     "text": [
      "oh\n"
     ]
    }
   ],
   "source": [
    "print(str[-2:2:-1])"
   ]
  },
  {
   "cell_type": "code",
   "execution_count": 9,
   "id": "0f46a6ed-95a8-4950-96e2-ea2232a6ea1e",
   "metadata": {},
   "outputs": [
    {
     "data": {
      "text/plain": [
       "'Rython'"
      ]
     },
     "execution_count": 9,
     "metadata": {},
     "output_type": "execute_result"
    }
   ],
   "source": [
    "str = \"Python\"\n",
    "str.replace(\"P\",\"R\")"
   ]
  },
  {
   "cell_type": "code",
   "execution_count": 14,
   "id": "13015f85-c329-4763-9200-cd7729b449d0",
   "metadata": {},
   "outputs": [
    {
     "name": "stdout",
     "output_type": "stream",
     "text": [
      "P\n",
      "y\n",
      "t\n",
      "h\n",
      "o\n",
      "n\n"
     ]
    }
   ],
   "source": [
    "for i in str:\n",
    "    print(i)"
   ]
  },
  {
   "cell_type": "code",
   "execution_count": 16,
   "id": "61160703-8b45-4c95-8547-3001f7a7cf40",
   "metadata": {},
   "outputs": [],
   "source": [
    "# String is immutable . So to modify a string , first\n",
    "# we have to break down a string into a list of characters."
   ]
  },
  {
   "cell_type": "code",
   "execution_count": 17,
   "id": "f41e248d-770f-4272-b574-697727d3e7a9",
   "metadata": {},
   "outputs": [
    {
     "name": "stdout",
     "output_type": "stream",
     "text": [
      "['H', 'e', 'l', 'l', 'o', ' ', 'S', 't', 'u', 'd', 'e', 'n', 't', 's']\n"
     ]
    }
   ],
   "source": [
    "# 2 ways to convert a string into a character array .\n",
    "\n",
    "#1st way\n",
    "str = \"Hello Students\"\n",
    "str_arr = [char for char in str]\n",
    "print(str_arr)"
   ]
  },
  {
   "cell_type": "code",
   "execution_count": 18,
   "id": "edbd4253-c3fe-4376-8433-980a9e8b0587",
   "metadata": {},
   "outputs": [
    {
     "name": "stdout",
     "output_type": "stream",
     "text": [
      "['H', 'e', 'l', 'l', 'o', ' ', 'S', 't', 'u', 'd', 'e', 'n', 't', 's']\n"
     ]
    }
   ],
   "source": [
    "#2nd way\n",
    "str_list = list(str)\n",
    "print(str_list)"
   ]
  },
  {
   "cell_type": "code",
   "execution_count": 19,
   "id": "37bcbda8-bebb-442e-a4f6-a5352ce4e95e",
   "metadata": {},
   "outputs": [],
   "source": [
    "# both the ways have a time complexity of O(n)"
   ]
  },
  {
   "cell_type": "code",
   "execution_count": 22,
   "id": "2bc19183-1334-4dfe-9ecb-2d0a98ccd127",
   "metadata": {},
   "outputs": [
    {
     "name": "stdout",
     "output_type": "stream",
     "text": [
      "Hello Students\n"
     ]
    }
   ],
   "source": [
    "# Converting the list to string\n",
    "\n",
    "chr_list = ['H', 'e', 'l', 'l', 'o', ' ', 'S', 't', 'u', 'd', 'e', 'n', 't', 's']\n",
    "str = \"\".join(chr_list)\n",
    "print(str)"
   ]
  },
  {
   "cell_type": "code",
   "execution_count": 10,
   "id": "64584b36-c0a3-4a0b-bb3c-3ab49b3013b4",
   "metadata": {},
   "outputs": [
    {
     "data": {
      "text/plain": [
       "'\\nPrint all the possible permutations of a given string .\\nfor eg : ABC will have 3! = 6 permutation strings\\nABC , ACB , BAC , BCA , CAB , CBA\\n\\n'"
      ]
     },
     "execution_count": 10,
     "metadata": {},
     "output_type": "execute_result"
    }
   ],
   "source": [
    "'''\n",
    "Print all the possible permutations of a given string .\n",
    "for eg : ABC will have 3! = 6 permutation strings\n",
    "ABC , ACB , BAC , BCA , CAB , CBA\n",
    "\n",
    "'''\n"
   ]
  },
  {
   "cell_type": "code",
   "execution_count": 23,
   "id": "5f777875-5118-4e64-a11e-30cb970b0255",
   "metadata": {},
   "outputs": [
    {
     "data": {
      "text/plain": [
       "'sd'"
      ]
     },
     "execution_count": 23,
     "metadata": {},
     "output_type": "execute_result"
    }
   ],
   "source": [
    "'s' + 'd'"
   ]
  },
  {
   "cell_type": "code",
   "execution_count": 2,
   "id": "34dcc541-6e9e-4b0c-b94e-e7bcf2b64eed",
   "metadata": {},
   "outputs": [
    {
     "name": "stdout",
     "output_type": "stream",
     "text": [
      "ABCD\n",
      "ABDC\n",
      "ACBD\n",
      "ACDB\n",
      "ADCB\n",
      "ADBC\n",
      "BACD\n",
      "BADC\n",
      "BCAD\n",
      "BCDA\n",
      "BDCA\n",
      "BDAC\n",
      "CBAD\n",
      "CBDA\n",
      "CABD\n",
      "CADB\n",
      "CDAB\n",
      "CDBA\n",
      "DBCA\n",
      "DBAC\n",
      "DCBA\n",
      "DCAB\n",
      "DACB\n",
      "DABC\n"
     ]
    }
   ],
   "source": [
    "# 1:09:10\n",
    "\n",
    "def permute(chr_arr,left,right):\n",
    "    # Base Condition\n",
    "    if left == right :\n",
    "        print(\"\".join(chr_arr))\n",
    "        return\n",
    "    else:\n",
    "        for i in range(left,right+1): # takes care of each character one after another\n",
    "            chr_arr[left] , chr_arr[i] = chr_arr[i] , chr_arr[left]\n",
    "            permute(chr_arr,left+1,right)\n",
    "            chr_arr[left] , chr_arr[i] = chr_arr[i] , chr_arr[left] # Go to the previous stage ,Backtracking\n",
    "\n",
    "permute(list(\"ABCD\"),0,3)"
   ]
  },
  {
   "cell_type": "code",
   "execution_count": null,
   "id": "bc5b51b0-0a22-436c-9427-b2cd06b8c9ed",
   "metadata": {},
   "outputs": [],
   "source": [
    "# 1:48:05"
   ]
  },
  {
   "cell_type": "code",
   "execution_count": 2,
   "id": "ff3379b9-920a-410b-85be-9115e26a7fe6",
   "metadata": {},
   "outputs": [
    {
     "name": "stdout",
     "output_type": "stream",
     "text": [
      "[0, 0, 0, 0, 0, 1, 1, 1, 1, 1]\n",
      "[0, 0, 0, 0, 1, 1, 1, 1]\n"
     ]
    }
   ],
   "source": [
    "'''\n",
    "Problem 5 : Sort an array containing two types of elements \n",
    "We are given an array of 0s and 1s in random order. \n",
    "Segregate 0s on left side and 1s on right side of the array. Traverse array only once. \n",
    "Examples: Input : arr[] = [0, 1, 0, 1, 0, 0, 1, 1, 1, 0] \n",
    "Output : arr[] = [0, 0, 0, 0, 0, 1, 1, 1, 1, 1]\n",
    "\n",
    "'''\n",
    "def sort_0_1(arr):\n",
    "    left_pointer = 0\n",
    "    right_pointer = len(arr) - 1\n",
    "\n",
    "    while left_pointer < right_pointer:\n",
    "        # Move left pointer to the right until a 1 is encountered\n",
    "        while arr[left_pointer] == 0 and left_pointer < right_pointer:\n",
    "            left_pointer += 1\n",
    "\n",
    "        # Move right pointer to the left until a 0 is encountered\n",
    "        while arr[right_pointer] == 1 and left_pointer < right_pointer:\n",
    "            right_pointer -= 1\n",
    "\n",
    "        # Swap the elements at left and right pointers\n",
    "        if left_pointer < right_pointer:\n",
    "            arr[left_pointer], arr[right_pointer] = arr[right_pointer], arr[left_pointer]\n",
    "            left_pointer += 1\n",
    "            right_pointer -= 1\n",
    "\n",
    "arr = [0, 1, 0, 1, 0, 0, 1, 1, 1, 0]\n",
    "arr2 = [1,0,1,0,1,0,1,0]\n",
    "sort_0_1(arr)\n",
    "print(arr)\n",
    "sort_0_1(arr2)\n",
    "print(arr2)\n"
   ]
  },
  {
   "cell_type": "code",
   "execution_count": 1,
   "id": "2e80ec19-5b5f-47bc-8153-0cdae1950bba",
   "metadata": {},
   "outputs": [],
   "source": []
  },
  {
   "cell_type": "code",
   "execution_count": 4,
   "id": "fbd1c7a9-0f1c-4e2a-8b34-873a9d7a9d4e",
   "metadata": {},
   "outputs": [
    {
     "name": "stdout",
     "output_type": "stream",
     "text": [
      "[0, 0, 0, 0, 0, 1, 1, 1, 1, 1]\n",
      "[0, 0, 0, 0, 1, 1, 1, 1]\n",
      "[0, 0, 0, 0, 0, 1, 1, 1, 1]\n"
     ]
    }
   ],
   "source": [
    "# the 2nd conditions in while loops arent needed .\n",
    "def sort_0_1(arr):\n",
    "    left_pointer = 0\n",
    "    right_pointer = len(arr) - 1\n",
    "\n",
    "    while left_pointer < right_pointer:\n",
    "        # Move left pointer to the right until a 1 is encountered\n",
    "        while arr[left_pointer] == 0: \n",
    "            left_pointer += 1\n",
    "\n",
    "        # Move right pointer to the left until a 0 is encountered\n",
    "        while arr[right_pointer] == 1: \n",
    "            right_pointer -= 1\n",
    "\n",
    "        # Swap the elements at left and right pointers\n",
    "        if left_pointer < right_pointer:\n",
    "            arr[left_pointer], arr[right_pointer] = arr[right_pointer], arr[left_pointer]\n",
    "            left_pointer += 1\n",
    "            right_pointer -= 1\n",
    "\n",
    "arr = [0, 1, 0, 1, 0, 0, 1, 1, 1, 0]\n",
    "arr2 = [1,0,1,0,1,0,1,0]\n",
    "arr3 = [1,1,0,0,1,1,0,0,0]\n",
    "sort_0_1(arr)\n",
    "print(arr)\n",
    "sort_0_1(arr2)\n",
    "print(arr2)\n",
    "sort_0_1(arr3)\n",
    "print(arr3)"
   ]
  },
  {
   "cell_type": "code",
   "execution_count": 23,
   "id": "9c072e03-119c-4307-8608-ae8dc4a3e6fc",
   "metadata": {},
   "outputs": [
    {
     "name": "stdout",
     "output_type": "stream",
     "text": [
      "3\n",
      "2\n",
      "2\n",
      "0\n",
      "5\n",
      "5\n"
     ]
    }
   ],
   "source": [
    "'''\n",
    "Problem 1 : Find the Rotation Count in Rotated Sorted array \n",
    "Input: arr[] = {15, 18, 2, 3, 6, 12} \n",
    "Output: 2 Explanation: Initial array must be {2, 3, 6, 12, 15, 18}. \n",
    "We get the given array after rotating the initial array twice.\n",
    "Solve the same problem with Binary Search Approach | FAANG\n",
    "\n",
    "Logic : Smallest element index is the no of rotations ,\n",
    "Smallest element will be less than both the elements to its immediate right and legft.\n",
    "'''\n",
    "\n",
    "def binary(arr):\n",
    "    start = 0\n",
    "    n = len(arr)\n",
    "    end = n-1\n",
    "    \n",
    "    while(start <= end):\n",
    "        mid = int(start + (end-start)/2)\n",
    "        prev = (mid-1 + n)%n # ensure the prev index is always correct\n",
    "        next = (mid+1)%n # ensure the next index is always in range\n",
    "        \n",
    "        if arr[mid] < arr[prev] and arr[mid] < arr[next] :\n",
    "            return mid\n",
    "        \n",
    "        elif arr[mid] < arr[end] :\n",
    "            end = mid-1\n",
    "        \n",
    "        else:\n",
    "            start = mid+1\n",
    "            \n",
    "array = [5,6,8,1,2]\n",
    "arr = [15, 18, 2, 3, 6, 12,13]\n",
    "arr1 = [15, 18, 2, 3, 6, 12]\n",
    "arr2 = [2, 3, 6, 12,15,18]\n",
    "arr3 = [18,15,12,6,3,2]\n",
    "arr4 = [3,6,12,15,18,2]\n",
    "print(binary(array))\n",
    "print(binary(arr))\n",
    "print(binary(arr1))\n",
    "print(binary(arr2))\n",
    "print(binary(arr3))\n",
    "print(binary(arr4))"
   ]
  },
  {
   "cell_type": "code",
   "execution_count": null,
   "id": "ecd0551a-16e5-4914-87b8-b80e7a6651dd",
   "metadata": {},
   "outputs": [],
   "source": []
  }
 ],
 "metadata": {
  "kernelspec": {
   "display_name": "Python 3 (ipykernel)",
   "language": "python",
   "name": "python3"
  },
  "language_info": {
   "codemirror_mode": {
    "name": "ipython",
    "version": 3
   },
   "file_extension": ".py",
   "mimetype": "text/x-python",
   "name": "python",
   "nbconvert_exporter": "python",
   "pygments_lexer": "ipython3",
   "version": "3.10.8"
  }
 },
 "nbformat": 4,
 "nbformat_minor": 5
}
