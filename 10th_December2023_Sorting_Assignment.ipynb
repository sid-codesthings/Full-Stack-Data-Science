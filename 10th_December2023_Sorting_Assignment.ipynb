{
 "cells": [
  {
   "cell_type": "code",
   "execution_count": 36,
   "id": "4dcf1a3d",
   "metadata": {},
   "outputs": [
    {
     "data": {
      "text/plain": [
       "9"
      ]
     },
     "execution_count": 36,
     "metadata": {},
     "output_type": "execute_result"
    }
   ],
   "source": [
    "'''\n",
    "Problem 1.Given an array of n numbers, give an algorithm \n",
    "which gives the element appearing maximum \n",
    "number of times?\n",
    "\n",
    "'''\n",
    "def maxel(arr):\n",
    "    counter=[0]*len(arr)\n",
    "    m = 0\n",
    "    for i in range(len(arr)):\n",
    "        c = 0\n",
    "        for j in range(len(arr)):\n",
    "            if arr[j] == arr[i] :\n",
    "                c+=1\n",
    "        counter[m] = c\n",
    "        m+=1\n",
    "\n",
    "    max = counter[0]\n",
    "    for k in range(len(counter)):\n",
    "        if counter[k] > counter[0]:\n",
    "            max = counter[k]\n",
    "            position = k\n",
    "        \n",
    "        \n",
    "    return arr[position]\n",
    "    \n",
    "arr = [5,6,6,7,8,8,8,9,9,9,9]\n",
    "maxel(arr)"
   ]
  },
  {
   "cell_type": "code",
   "execution_count": 16,
   "id": "ddcb541a",
   "metadata": {},
   "outputs": [
    {
     "data": {
      "text/plain": [
       "'Missing Number : 5.0'"
      ]
     },
     "execution_count": 16,
     "metadata": {},
     "output_type": "execute_result"
    }
   ],
   "source": [
    "'''\n",
    "Problem 2 : We are given a list of n-1 integers and these integers are in the range of 1 to n . There are no \n",
    "duplicates in the list. One of the integers is missing in the list. Give an algorithm to find that element Ex: \n",
    "[1,2,4,6,3,7,8] 5 is the missing num.\n",
    "\n",
    "'''\n",
    "\n",
    "# best solution\n",
    "\n",
    "def missingno(arr):\n",
    "    sum = 0\n",
    "    for number in arr:\n",
    "        sum+=number\n",
    "    return f'Missing Number : {0.5 * (len(arr)+1) * (len(arr)+2) - sum}'\n",
    "# Subtracted original array sum (by using AP formula n(n+1)/2) from the new array sum to find the missing no.\n",
    "arr = [1,2,4,6,3,7,8]\n",
    "missingno(arr)\n",
    "\n",
    "# O(n) complexity"
   ]
  },
  {
   "cell_type": "code",
   "execution_count": 13,
   "id": "da1d3fc4",
   "metadata": {},
   "outputs": [
    {
     "data": {
      "text/plain": [
       "'Missing Element : 5'"
      ]
     },
     "execution_count": 13,
     "metadata": {},
     "output_type": "execute_result"
    }
   ],
   "source": [
    "# Different Solution with O(n^2) complexity\n",
    "'''\n",
    "Problem 2 : We are given a list of n-1 integers and these integers are in the range of 1 to n . There are no \n",
    "duplicates in the list. One of the integers is missing in the list. Give an algorithm to find that element Ex: \n",
    "[1,2,4,6,3,7,8] 5 is the missing num.\n",
    "\n",
    "'''\n",
    "def missing(arr):\n",
    "    for i in range(len(arr)):\n",
    "        min = i\n",
    "        for j in range(i+1,len(arr)):\n",
    "            if arr[j] < arr[min] :\n",
    "                min = j\n",
    "        arr[i] , arr[min] = arr[min] , arr[i]\n",
    "    \n",
    "    for k in range(len(arr)):\n",
    "        if arr[k] + 1 != arr[k+1]:\n",
    "            return f'Missing Element : {arr[k] + 1}'\n",
    "    \n",
    "arr = [1,2,4,6,3,7,8] \n",
    "missing(arr)"
   ]
  },
  {
   "cell_type": "code",
   "execution_count": 92,
   "id": "02061888",
   "metadata": {},
   "outputs": [
    {
     "data": {
      "text/plain": [
       "3"
      ]
     },
     "execution_count": 92,
     "metadata": {},
     "output_type": "execute_result"
    }
   ],
   "source": [
    "'''\n",
    "Problem 3 : Given an array of n positive numbers. All numbers occurs even number of times except 1 which \n",
    "occurs odd number of times. Find that number in O(n) time and O(1) space. Ex: [1,2,3,2,3,1,3]. 3 is repeats odd \n",
    "times.\n",
    "\n",
    "'''\n",
    "# With O(n) complexity and O(1) space\n",
    "\n",
    "# Logic : We will use the XOR operator on each element of the array , it has the property that if an element is XORed with\n",
    "# itself then the result is 0 . So if a number exists for odd times then that will be returned bcz it will be XORed once or\n",
    "# multiple of thrice\n",
    "# and hence the number shall be returned.\n",
    "\n",
    "def numfind(arr):\n",
    "    number_appearing_oddtimes = 0\n",
    "    for number in arr:\n",
    "        number_appearing_oddtimes ^= number\n",
    "    \n",
    "    return number_appearing_oddtimes\n",
    "\n",
    "arr = [1,2,3,2,3,1,3]\n",
    "numfind(arr)"
   ]
  },
  {
   "cell_type": "code",
   "execution_count": 73,
   "id": "321ef75e",
   "metadata": {},
   "outputs": [
    {
     "name": "stdout",
     "output_type": "stream",
     "text": [
      "[0, 0, 0, 0, 0, 1, 1, 1, 1, 1, 2, 2]\n"
     ]
    }
   ],
   "source": [
    "'''\n",
    "Problem 10 : Sort an array of 0’s, 1’s and 2’s [or R’s, G’s and B’s]: \n",
    "Given an array A[] consisting of 0’s, 1’s and \n",
    "2’s, give an algorithm for sorting A[].\n",
    "The algorithm should put all 0’s first, then all 1’s and finally all 2’s at the \n",
    "end. Example Input = {0,1,1,0,1,2,1,2,0,0,0,1}, Output = {0,0,0,0,0,1,1,1,1,1,2,2}\n",
    "'''\n",
    "\n",
    "def sort_zot(arr):\n",
    "    low = 0\n",
    "    mid = 0\n",
    "    high = len(arr)-1\n",
    "    \n",
    "    while(mid<=high):\n",
    "        if arr[mid] == 0 :\n",
    "            arr[low],arr[mid] = arr[mid],arr[low]\n",
    "            low+=1\n",
    "            mid+=1\n",
    "        \n",
    "        elif arr[mid] == 1 :\n",
    "            mid+=1\n",
    "            \n",
    "        else :\n",
    "            arr[mid],arr[high] = arr[high],arr[mid]\n",
    "            high-=1\n",
    "            \n",
    "arr =  [0,1,1,0,1,2,1,2,0,0,0,1]\n",
    "sort_zot(arr)\n",
    "print(arr)"
   ]
  },
  {
   "cell_type": "code",
   "execution_count": 93,
   "id": "084a5369",
   "metadata": {},
   "outputs": [],
   "source": [
    "'''\n",
    "Problem 8 : An element is a majority if it appears more than n/2 times. Give an algorithm takes an array of n \n",
    "element as argument and identifies a majority (if it exists).\n",
    "'''\n",
    "\n",
    "def majority(arr):\n",
    "\n",
    "    for i in arr :\n",
    "        element = i\n",
    "        c = 0\n",
    "        for j in arr :\n",
    "            if j == element :\n",
    "                c+=1\n",
    "                \n",
    "        if c > len(arr)/2 :\n",
    "            return element"
   ]
  },
  {
   "cell_type": "code",
   "execution_count": 96,
   "id": "ea5e48db",
   "metadata": {},
   "outputs": [
    {
     "data": {
      "text/plain": [
       "4"
      ]
     },
     "execution_count": 96,
     "metadata": {},
     "output_type": "execute_result"
    }
   ],
   "source": [
    "arr = [5,6,9,8,4,4,4,4,4,4]\n",
    "majority(arr)"
   ]
  },
  {
   "cell_type": "code",
   "execution_count": 101,
   "id": "77233da9",
   "metadata": {},
   "outputs": [
    {
     "name": "stdout",
     "output_type": "stream",
     "text": [
      "The 2 elements are : 4 and 3\n"
     ]
    }
   ],
   "source": [
    "'''\n",
    "Problem 4 : Given an array of n elements. Find two elements in the array such that their sum is equal to given \n",
    "element K.\n",
    "'''\n",
    "\n",
    "def twoel(arr,K):\n",
    "    for i in arr:\n",
    "        element1 = i\n",
    "        for j in arr:\n",
    "            sum = 0\n",
    "            if j != element1 :\n",
    "                sum = element1 + j\n",
    "            if sum == K :\n",
    "                return f'The 2 elements are : {element1} and {j}'\n",
    "\n",
    "arr = [1,4,3,5]\n",
    "print(twoel(arr,7))"
   ]
  },
  {
   "cell_type": "code",
   "execution_count": 9,
   "id": "92241747",
   "metadata": {},
   "outputs": [
    {
     "data": {
      "text/plain": [
       "[[4, 6, 45]]"
      ]
     },
     "execution_count": 9,
     "metadata": {},
     "output_type": "execute_result"
    }
   ],
   "source": [
    "'''\n",
    "Problem 6 : Given an array of n elements . Find three elements such that their sum is equal to the given \n",
    "number.\n",
    "\n",
    "'''\n",
    "\n",
    "def sum_number(arr,target):\n",
    "    arr.sort()\n",
    "    n = len(arr)\n",
    "    three_nums = []\n",
    "    for i in range(n-2):\n",
    "        left = i+1\n",
    "        right = n-1\n",
    "        \n",
    "        while left < right :\n",
    "            sum = arr[i] + arr[left] + arr[right]\n",
    "            if sum < target :\n",
    "                left+=1\n",
    "            \n",
    "            elif sum == target :\n",
    "                three_nums.append([arr[i],arr[left],arr[right]])\n",
    "                left+=1\n",
    "                right-=1\n",
    "                \n",
    "            else :\n",
    "                right-=1\n",
    "            \n",
    "    return three_nums\n",
    "\n",
    "arr = [1,4,6,8,10,45]\n",
    "sum_number(arr,55)"
   ]
  },
  {
   "cell_type": "code",
   "execution_count": 35,
   "id": "b942d00c",
   "metadata": {},
   "outputs": [
    {
     "name": "stdout",
     "output_type": "stream",
     "text": [
      "The Three Numbers are :  [3, 4, 5]\n"
     ]
    }
   ],
   "source": [
    "'''\n",
    "Problem 7 : Given an array of n elements . Find three elements i, j, k in the array such that\n",
    "i * i + j * j = k*k.\n",
    "\n",
    "'''\n",
    "\n",
    "def ijk(arr):\n",
    "    arr.sort()\n",
    "    n = len(arr)\n",
    "    sq_arr = [x*x for x in arr] # squared the given array\n",
    "    sq_arr.sort()\n",
    "    \n",
    "    for i in range(n-1,1,-1):\n",
    "        left = 0\n",
    "        right = i-1\n",
    "        while left < right :\n",
    "            if sq_arr[left] + sq_arr[right] == sq_arr[i]:\n",
    "                return [arr[left],arr[right],arr[i]]\n",
    "            \n",
    "            elif sq_arr[left] + sq_arr[right] < sq_arr[i]:\n",
    "                left +=1\n",
    "            \n",
    "            else:\n",
    "                right -=1\n",
    "    return [] # if such elements are not found return empty list\n",
    "\n",
    "arr = [1,3,6,7,4,9,5,8]\n",
    "arr2 = [10,11,12,13,14]\n",
    "three_numbers = ijk(arr)\n",
    "print(\"The Three Numbers are : \", three_numbers)"
   ]
  },
  {
   "cell_type": "code",
   "execution_count": 17,
   "id": "20735019",
   "metadata": {},
   "outputs": [
    {
     "name": "stdout",
     "output_type": "stream",
     "text": [
      "The row with maximum no of 0s is 2\n"
     ]
    }
   ],
   "source": [
    "'''\n",
    "Problem 9 : Given n × n matrix, and in each row all 1’s are followed by 0’s. Find the row with the maximum \n",
    "number of 0’s.\n",
    "'''\n",
    "def matrix(arr):\n",
    "    sum = []\n",
    "    n = len(arr)\n",
    "    row_num = 0\n",
    "    for i in range(n):\n",
    "        summation = 0\n",
    "        for j in range(n):\n",
    "            summation +=arr[i][j]\n",
    "        sum.append(summation)\n",
    "    min = sum[0]\n",
    "    for k in range(len(sum)):\n",
    "        if sum[k] < min :\n",
    "            min = sum[k]\n",
    "            row_num = k+1\n",
    "    return f\"The row with maximum no of 0s is {row_num}\"\n",
    "\n",
    "arr = [\n",
    "    \n",
    "     [1, 1, 1, 0],\n",
    "     [1, 0, 0, 0],\n",
    "     [1, 1, 0, 0],\n",
    "     [1, 1, 0, 0]\n",
    "]\n",
    "\n",
    "print(matrix(arr))"
   ]
  }
 ],
 "metadata": {
  "kernelspec": {
   "display_name": "Python 3 (ipykernel)",
   "language": "python",
   "name": "python3"
  },
  "language_info": {
   "codemirror_mode": {
    "name": "ipython",
    "version": 3
   },
   "file_extension": ".py",
   "mimetype": "text/x-python",
   "name": "python",
   "nbconvert_exporter": "python",
   "pygments_lexer": "ipython3",
   "version": "3.11.3"
  }
 },
 "nbformat": 4,
 "nbformat_minor": 5
}
