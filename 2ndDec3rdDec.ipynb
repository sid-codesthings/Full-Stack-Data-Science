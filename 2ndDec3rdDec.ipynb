{
 "cells": [
  {
   "cell_type": "code",
   "execution_count": null,
   "id": "e342a9ef-236f-4026-87cd-f7e148b633ff",
   "metadata": {},
   "outputs": [],
   "source": [
    "# In real world cases, we use merge sort and quick sort\n",
    "# bcz they have O(nlogn) complexity which is lesser than O(n^2) for\n",
    "# both selection sort and bubble sort worst cases."
   ]
  },
  {
   "cell_type": "code",
   "execution_count": 32,
   "id": "7a103caf-4de0-4a9d-b141-0934750acf44",
   "metadata": {},
   "outputs": [
    {
     "name": "stdout",
     "output_type": "stream",
     "text": [
      "5\n",
      "6\n",
      "7\n",
      "8\n"
     ]
    }
   ],
   "source": [
    "# Search\n",
    "\n",
    "# Binary Search works for an array which is already sorted.\n",
    "\n",
    "'''\n",
    "Binary Search / Linear Search through Recursion\n",
    "\n",
    "What is Recursion ?\n",
    "Recursion is Function calling function.\n",
    "\n",
    "46:50\n",
    "\n",
    "'''\n",
    "# trying to print numbers in an array using recursion\n",
    "def rec(arr , i):\n",
    "    # Base Case Condition\n",
    "    if i >= len(arr):\n",
    "        return\n",
    "    # Logic\n",
    "    print(arr[i])\n",
    "    # Recursive Call\n",
    "    rec(arr,i+1)\n",
    "    \n",
    "arr = [5,6,7,8]\n",
    "rec(arr,0)\n"
   ]
  },
  {
   "cell_type": "code",
   "execution_count": 3,
   "id": "eadc701d-33a4-4976-8366-abffd1f9bbcd",
   "metadata": {},
   "outputs": [
    {
     "name": "stdout",
     "output_type": "stream",
     "text": [
      "8\n",
      "7\n",
      "6\n",
      "5\n"
     ]
    }
   ],
   "source": [
    "# Recursion is always bi-directional . We move from 1st recursion to 2nd to 3rd to 4th\n",
    "# and then with return statement we come back from 4th to 3rd to 2nd to first .\n",
    "\n",
    "\n",
    "def rec(arr , i):\n",
    "    # Base Case Condition\n",
    "    if i >= len(arr):\n",
    "        return\n",
    "    rec(arr,i+1)\n",
    "    # Logic\n",
    "    print(arr[i])\n",
    "    # Recursive Call\n",
    "    \n",
    "    \n",
    "arr = [5,6,7,8]\n",
    "rec(arr,0)\n"
   ]
  },
  {
   "cell_type": "code",
   "execution_count": null,
   "id": "5a092634-4525-4fa9-b1a0-5696aa4479e9",
   "metadata": {},
   "outputs": [],
   "source": [
    "# 1:15:50\n",
    "\n",
    "# In stack when we insert anything its called push , when we remove something\n",
    "# its called pop.\n",
    "\n",
    "# Execution continues till call stack is not empty .\n",
    "\n",
    "# 1:24:25\n"
   ]
  },
  {
   "cell_type": "code",
   "execution_count": 42,
   "id": "0f1e0e00-5578-4bca-bae7-672a9826ce82",
   "metadata": {},
   "outputs": [
    {
     "data": {
      "text/plain": [
       "-1"
      ]
     },
     "execution_count": 42,
     "metadata": {},
     "output_type": "execute_result"
    }
   ],
   "source": [
    "# Say we have a list of numbers [3,5,2,1,4]\n",
    "# Find the smallest number using recursion.\n",
    "\n",
    "def small_rec(arr,l):\n",
    "    if l == 1 :\n",
    "        return arr[0]\n",
    "    \n",
    "    return min(arr[l-1],small_rec(arr,l-1))\n",
    "\n",
    "arr = [20,30,11,13,19,-1]\n",
    "l = len(arr)\n",
    "small_rec(arr,l)"
   ]
  },
  {
   "cell_type": "code",
   "execution_count": 18,
   "id": "ca636b62-9af5-4716-a245-0c2b678ab1cc",
   "metadata": {},
   "outputs": [
    {
     "data": {
      "text/plain": [
       "14"
      ]
     },
     "execution_count": 18,
     "metadata": {},
     "output_type": "execute_result"
    }
   ],
   "source": [
    "# Normal\n",
    "def rec(arr):\n",
    "    min = arr[0]\n",
    "    for i in range(len(arr)):\n",
    "        if arr[i] < min :\n",
    "            min = arr[i]\n",
    "    return min\n",
    "rec([20,30,15,14,19])"
   ]
  },
  {
   "cell_type": "code",
   "execution_count": 47,
   "id": "b153aac5-de79-4dd7-8674-d16803fe265f",
   "metadata": {},
   "outputs": [
    {
     "data": {
      "text/plain": [
       "-1"
      ]
     },
     "execution_count": 47,
     "metadata": {},
     "output_type": "execute_result"
    }
   ],
   "source": [
    "# Viswa Mohan's Code\n",
    "\n",
    "def find_min(arr,SI):\n",
    "    if SI >= len(arr):\n",
    "        return 99999999999 # this 99999999999.. is the reference no with which the last index\n",
    "        # will get compared with , it can be any number greater than all the numbers\n",
    "        # present in the given array .\n",
    "    \n",
    "    return min(arr[SI],find_min(arr,SI+1))\n",
    "\n",
    "find_min([3,2,-1,5,1],0)"
   ]
  },
  {
   "cell_type": "code",
   "execution_count": 44,
   "id": "0f63be32-da4e-47e1-afc4-2673ff91c13a",
   "metadata": {},
   "outputs": [
    {
     "data": {
      "text/plain": [
       "-5"
      ]
     },
     "execution_count": 44,
     "metadata": {},
     "output_type": "execute_result"
    }
   ],
   "source": [
    "# My Improvisation of mine and viswa mohan .\n",
    "def find_min(arr,SI):\n",
    "    if SI == len(arr)-1:\n",
    "        return arr[len(arr)-1]\n",
    "    \n",
    "    return min(arr[SI],find_min(arr,SI+1))\n",
    "\n",
    "find_min([3,2,-1,5,1,-5],0)"
   ]
  },
  {
   "cell_type": "code",
   "execution_count": 2,
   "id": "e200e318-9d05-435e-b6d3-dd7eec7f1831",
   "metadata": {},
   "outputs": [
    {
     "name": "stdout",
     "output_type": "stream",
     "text": [
      "1\n",
      "3\n",
      "7\n",
      "15\n"
     ]
    }
   ],
   "source": [
    "# 2:01:58\n",
    "\n",
    "# Tower of Hanoi\n",
    "\n",
    "def moves(n,s,d,a):\n",
    "    if n == 1:\n",
    "        return 1\n",
    "    return moves(n-1,s,a,d) + 1 + moves(n-1,a,d,s)\n",
    "\n",
    "print(moves(1,'s','d','a'))\n",
    "print(moves(2,'s','d','a'))\n",
    "print(moves(3,'s','d','a'))\n",
    "print(moves(4,'s','d','a'))\n",
    "\n"
   ]
  },
  {
   "cell_type": "code",
   "execution_count": null,
   "id": "4f697264-aa53-4eb3-9126-3a1a1e6af57a",
   "metadata": {},
   "outputs": [],
   "source": [
    "# 3rd Dec\n",
    "\n",
    "# Linear Search Normal\n",
    "\n",
    "def search(arr,num):\n",
    "    for i in range(len(arr)):\n",
    "        if arr[i] == num :\n",
    "            return i\n",
    "    return -1\n"
   ]
  },
  {
   "cell_type": "code",
   "execution_count": 8,
   "id": "1a64e2b7-85cd-4262-8a83-fc93615a33e3",
   "metadata": {},
   "outputs": [
    {
     "data": {
      "text/plain": [
       "'Number found at position 2'"
      ]
     },
     "execution_count": 8,
     "metadata": {},
     "output_type": "execute_result"
    }
   ],
   "source": [
    "# Linear Search using Recursion\n",
    "# Converting the above program using recursion\n",
    "\n",
    "def rec_linsearch(arr,num,i):\n",
    "    if i == len(arr) :\n",
    "        return -1\n",
    "    if num == arr[i] :\n",
    "        return f'Number found at position {i}'\n",
    "    else :\n",
    "        return rec_linsearch(arr,num,i+1)\n",
    "    \n",
    "    \n",
    "rec_linsearch([1,10,23,45,6,8],23,0)\n",
    "    "
   ]
  },
  {
   "cell_type": "code",
   "execution_count": 11,
   "id": "e370c945-243b-43af-8086-df8e2734b4f9",
   "metadata": {},
   "outputs": [
    {
     "data": {
      "text/plain": [
       "3"
      ]
     },
     "execution_count": 11,
     "metadata": {},
     "output_type": "execute_result"
    }
   ],
   "source": [
    "def binarysearch(arr , num):\n",
    "    left = 0\n",
    "    right = len(arr) - 1\n",
    "    \n",
    "    while(left <= right):\n",
    "        mid = int(left + (right - left)/2) # is equal to (left + right)/2\n",
    "    # but we are not using (left + right)/2 bcz it will take more space than  \n",
    "    # left + (right - left)/2 . Bcz for worst case scenarios \n",
    "    # i.e. for big numbers , the addition of left and right\n",
    "    # will be huge . So more space will be required. But if we do left + (right - left)/2\n",
    "    # then space will be less , bcz subtraction is fetching a reduced number and then adding to\n",
    "    # left is fetching a comparatively lower number in comparison to (left + right)/2 .\n",
    "    \n",
    "    # we have typecasted it to int cz we want an approx integer number as mid not float .\n",
    "        \n",
    "        if arr[mid] == num :\n",
    "            return mid\n",
    "        elif arr[mid] > num :\n",
    "            right = mid - 1\n",
    "        else :\n",
    "            left = mid + 1\n",
    "    return -1\n",
    "\n",
    "binarysearch([1,100,2,200,3],200)"
   ]
  },
  {
   "cell_type": "code",
   "execution_count": 30,
   "id": "1b799187-cf76-49db-8c74-ac2ae51e623b",
   "metadata": {},
   "outputs": [
    {
     "name": "stdout",
     "output_type": "stream",
     "text": [
      "-1\n"
     ]
    }
   ],
   "source": [
    "# 37:18\n",
    "\n",
    "# We apply binary search on an already sorted array or list .\n",
    "\n",
    "# Let's convert it using recursion .\n",
    "\n",
    "# My Code\n",
    "def rec_binarysearch(arr,num,left,right,mid):\n",
    "    if arr[mid] == num :\n",
    "        return mid\n",
    "    \n",
    "    if num not in arr:\n",
    "        return -1\n",
    "        \n",
    "    if arr[mid] > num :\n",
    "        return rec_binarysearch(arr,num,left,mid-1,int(left + (mid-1 - left)/2))\n",
    "    else:\n",
    "        return rec_binarysearch(arr,num,mid+1,right,int(mid+1 + (right - (mid+1))/2))\n",
    "    \n",
    "\n",
    "arr = [120,140,460,880,900,1000]\n",
    "mid = int((0 + (len(arr)-1))/2)\n",
    "print(rec_binarysearch(arr,12,0,len(arr)-1,mid))"
   ]
  },
  {
   "cell_type": "code",
   "execution_count": 34,
   "id": "c55ab8ae-db05-4c99-8b6a-2a4cf8186b24",
   "metadata": {},
   "outputs": [
    {
     "name": "stdout",
     "output_type": "stream",
     "text": [
      "2\n"
     ]
    }
   ],
   "source": [
    "# Vishawa's Code\n",
    "\n",
    "def binaryrec(arr, sI, cI , num):\n",
    "    if sI > cI :\n",
    "        return -1\n",
    "    mid = int(sI + (cI-sI)/2)\n",
    "    if arr[mid] == num :\n",
    "        return mid\n",
    "    elif arr[mid] > num :\n",
    "        return binaryrec(arr,sI,mid-1,num)\n",
    "    else:\n",
    "        return binaryrec(arr,mid+1,cI,num)\n",
    "    \n",
    "\n",
    "print(binaryrec([20,35,45,50,65,78],0,5,45))\n",
    "# Remember , we always need to give a sorted array as input , if we give unsorted array\n",
    "# it will show error ."
   ]
  },
  {
   "cell_type": "code",
   "execution_count": 33,
   "id": "12f3f48c-3f22-4df1-9b32-73c534a32af3",
   "metadata": {},
   "outputs": [
    {
     "data": {
      "text/plain": [
       "[4, 3, 2, 1]"
      ]
     },
     "execution_count": 33,
     "metadata": {},
     "output_type": "execute_result"
    }
   ],
   "source": [
    "# 1:11:57\n",
    "\n",
    "# Reverse an array using recursion {3,5,1,2,4} and normal method also\n",
    "\n",
    "# normal using extra space \n",
    "\n",
    "def rev1(arr):\n",
    "    \n",
    "    l = len(arr)\n",
    "    arr1 = [0] * l\n",
    "    for i in range(l):\n",
    "        arr1[i] = arr[l-1-i]\n",
    "    return arr1\n",
    "\n",
    "arr = [1,2,3,4]\n",
    "rev1(arr)\n",
    "\n",
    "\n",
    "    \n",
    "    \n",
    "\n"
   ]
  },
  {
   "cell_type": "code",
   "execution_count": 51,
   "id": "545a32e9-b30b-49a3-a5aa-e519e50679fc",
   "metadata": {},
   "outputs": [
    {
     "data": {
      "text/plain": [
       "[4, 2, 1, 5, 3]"
      ]
     },
     "execution_count": 51,
     "metadata": {},
     "output_type": "execute_result"
    }
   ],
   "source": [
    "# Without using extra space / vishwa's code also\n",
    "\n",
    "def rev2(arr):\n",
    "    start = 0\n",
    "    end = len(arr) - 1\n",
    "    \n",
    "    while(start < end):\n",
    "        arr[start] , arr[end] = arr[end] , arr[start]\n",
    "       \n",
    "        start = start + 1\n",
    "        end = end - 1\n",
    "    return arr\n",
    "arr = [3,5,1,2,4]\n",
    "rev2(arr)\n"
   ]
  },
  {
   "cell_type": "code",
   "execution_count": 4,
   "id": "8bc7ccaf-4b22-4b47-80a6-e373233a1a8e",
   "metadata": {},
   "outputs": [
    {
     "name": "stdout",
     "output_type": "stream",
     "text": [
      "[8, 7, 6, 5, 4, 3, 2, 1]\n"
     ]
    }
   ],
   "source": [
    "# We can use recursion for above program\n",
    "\n",
    "def recreverse(arr,start,end):\n",
    "    \n",
    "    if start >= end :  # base case\n",
    "        return        # there is nothing to return cz the same array is getting\n",
    "                      # manipulated , mutated . \n",
    "                      # If the array is immutable then we have to use extra space.\n",
    "    \n",
    "    arr[start],arr[end] = arr[end],arr[start]\n",
    "    recreverse(arr, start + 1 , end - 1)\n",
    "\n",
    "arr = [1,2,3,4,5,6,7,8]\n",
    "recreverse(arr,0,len(arr)-1)\n",
    "print(arr)"
   ]
  },
  {
   "cell_type": "code",
   "execution_count": 5,
   "id": "49ff700f-2f85-43cd-b5b1-1480bdd46414",
   "metadata": {},
   "outputs": [
    {
     "name": "stdout",
     "output_type": "stream",
     "text": [
      "[8, 7, 6, 5, 4, 3, 2, 1]\n"
     ]
    }
   ],
   "source": [
    "# My recursion code was\n",
    "\n",
    "def recreverse(arr,start,end):\n",
    "    \n",
    "    if start >= end :  # base case\n",
    "        return arr    \n",
    "    \n",
    "    arr[start],arr[end] = arr[end],arr[start]\n",
    "    return recreverse(arr, start + 1 , end - 1)\n",
    "\n",
    "arr = [1,2,3,4,5,6,7,8]\n",
    "print(recreverse(arr,0,len(arr)-1))\n"
   ]
  },
  {
   "cell_type": "code",
   "execution_count": 1,
   "id": "7554bff0-90ed-4284-aef8-830ad8b6d72f",
   "metadata": {},
   "outputs": [
    {
     "name": "stdout",
     "output_type": "stream",
     "text": [
      "Palindrome\n",
      "Palindrome\n",
      "Not a Palindrome\n",
      "Not a Palindrome\n"
     ]
    }
   ],
   "source": [
    "# Palindrome - same from left and right .\n",
    "# Eg : 121 , 123321\n",
    "\n",
    "def palin(arr,start,end):\n",
    "    if start >= end :\n",
    "        return f'Palindrome'\n",
    "    \n",
    "    if arr[start] == arr[end] :\n",
    "        return palin(arr,start+1,end-1)\n",
    "    \n",
    "    else:\n",
    "        return f'Not a Palindrome'\n",
    "    \n",
    "arr = [1,2,3,3,2,1]\n",
    "arr1 = [1,2,2,1]\n",
    "arr2 = [3,6,9]\n",
    "arr3 = [1,2,1,1]\n",
    "print(palin(arr,0,len(arr)-1))\n",
    "print(palin(arr1,0,len(arr1)-1))\n",
    "print(palin(arr2,0,len(arr2)-1))\n",
    "print(palin(arr3,0,len(arr3)-1))"
   ]
  },
  {
   "cell_type": "code",
   "execution_count": 51,
   "id": "1abd978a-a370-4809-932b-74874431fcb2",
   "metadata": {},
   "outputs": [
    {
     "name": "stdout",
     "output_type": "stream",
     "text": [
      "[5, 1, 2, 3, 4]\n",
      "[5, 1, 2, 3, 4]\n",
      "[5, 1, 2, 3, 4]\n",
      "[5, 1, 2, 3, 4]\n",
      "[5, 1, 2, 3, 4]\n"
     ]
    }
   ],
   "source": [
    "# 2:07:09\n",
    "\n",
    "# Question that has been asked in Amazon interviews a lot .\n",
    "\n",
    "'''\n",
    "Rotate this array [3,1,2,5,4] anti-clockwise -- > [4,3,1,2,5]\n",
    "\n",
    "'''\n",
    "\n",
    "def rotate(arr,k):\n",
    "    arr = arr[-(k%len(arr)):] + arr[:-(k%len(arr))]\n",
    "    return arr\n",
    "\n",
    "arr = [1,2,3,4,5]\n",
    "print(rotate(arr,1))\n",
    "print(rotate(arr,6))\n",
    "print(rotate(arr,11))\n",
    "print(rotate(arr,16))\n",
    "print(rotate(arr,21))"
   ]
  },
  {
   "cell_type": "code",
   "execution_count": 55,
   "id": "ad361aa5-6386-446e-b5ee-c125ad748c6b",
   "metadata": {},
   "outputs": [
    {
     "data": {
      "text/plain": [
       "[5, 1, 2]"
      ]
     },
     "execution_count": 55,
     "metadata": {},
     "output_type": "execute_result"
    }
   ],
   "source": [
    "\n",
    "#Rough work for above program\n",
    "arr = [1,2,5] \n",
    "arr[-1:] + arr[:-1]\n"
   ]
  },
  {
   "cell_type": "code",
   "execution_count": 1,
   "id": "d6560815-b187-4a29-8efe-0caa41e332d2",
   "metadata": {},
   "outputs": [
    {
     "name": "stdout",
     "output_type": "stream",
     "text": [
      "[5, 1, 2, 3, 4]\n",
      "[5, 1, 2, 3, 4]\n",
      "[5, 1, 2, 3, 4]\n",
      "[5, 1, 2, 3, 4]\n",
      "[5, 1, 2, 3, 4]\n"
     ]
    }
   ],
   "source": [
    "# Vishwa's Code\n",
    "\n",
    "def rotate(arr,k):\n",
    "    k = k % len(arr) # no of times the rotation has to take place ,\n",
    "    # cz k = 1 time and k = 4 , 7 , 10 times gives same value so \n",
    "    # what is common is difference of 3 which is the array size , also whats\n",
    "    # common is if we take k % of 3 (array size) we see that all of them\n",
    "    # will return remainder 1 .\n",
    "    \n",
    "    for i in range(k):\n",
    "        prev = arr[0]\n",
    "        curr = arr[0]\n",
    "        arr[0] = arr[len(arr)-1]\n",
    "        j = 1\n",
    "        while (j<len(arr)):\n",
    "            curr = arr[j]\n",
    "            arr[j] = prev\n",
    "            prev = curr\n",
    "            j+=1\n",
    "            \n",
    "arr1 = [1,2,3,4,5]\n",
    "arr2 = [1,2,3,4,5]\n",
    "arr3 = [1,2,3,4,5]\n",
    "arr4 = [1,2,3,4,5]\n",
    "arr5 = [1,2,3,4,5]\n",
    "rotate(arr1,1)\n",
    "print(arr1)\n",
    "rotate(arr2,6)\n",
    "print(arr2)\n",
    "rotate(arr3,11)\n",
    "print(arr3)\n",
    "rotate(arr4,21)\n",
    "print(arr4)\n",
    "rotate(arr5,41)\n",
    "print(arr5)\n",
    "# Nearly O(n^2) time complexity"
   ]
  },
  {
   "cell_type": "code",
   "execution_count": null,
   "id": "5f4fa220-274a-4236-a95d-5902b1beeb52",
   "metadata": {},
   "outputs": [],
   "source": [
    "# One of the shortcuts for this program is\n",
    "# to reverse the array fully then suppose they have asked\n",
    "# to rotate the array 3 times(<size of array) then we will reverse\n",
    "# first 3 elements , then revrse n-k = 5-3 = remaining 2 elements\n",
    "# of array , that's the answer. n being size of array .\n",
    "\n",
    "'''\n",
    "So steps to rotate the array by 3 times (k) for a size of array 5 (n) .\n",
    "1. reverse the array fully\n",
    "2. then reverse the first 3(or k) elements\n",
    "3. then reverse the n-k = 5 - 3 = 2 , remaining 2 elements in the array .\n",
    "\n",
    "That's the answer .\n",
    "\n",
    "'''\n",
    "\n",
    "54321\n",
    "54321\n",
    "34512"
   ]
  },
  {
   "cell_type": "code",
   "execution_count": 3,
   "id": "09950d9c-e50c-4c73-b597-c32d090e1adc",
   "metadata": {},
   "outputs": [
    {
     "name": "stdout",
     "output_type": "stream",
     "text": [
      "[4, 4, 3, 2, 1]\n"
     ]
    }
   ],
   "source": [
    "def reverse_rec(arr,start,end):\n",
    "    if start > end :\n",
    "        return arr\n",
    "    \n",
    "    arr[start] , arr[end] = arr[end] , arr[start]\n",
    "    return reverse_rec(arr,start+1,end-1)\n",
    "\n",
    "arr= [1,2,3,4,4]\n",
    "print(reverse_rec(arr,0,len(arr)-1))"
   ]
  },
  {
   "cell_type": "code",
   "execution_count": 12,
   "id": "f64b5ca2-9797-4eda-b496-f6074522a042",
   "metadata": {},
   "outputs": [
    {
     "name": "stdout",
     "output_type": "stream",
     "text": [
      "[5, 6, 1, 2, 3, 4]\n"
     ]
    }
   ],
   "source": [
    "def rotate_k_times(arr,k):\n",
    "    k = k % len(arr)\n",
    "    \n",
    "    # REVERSE the entire array\n",
    "    reverse_rec(arr,0,len(arr)-1)\n",
    "    \n",
    "    # reverse the first k elements\n",
    "    reverse_rec(arr,0,k-1)  # index starts from 0 so it will end at k-1\n",
    "    \n",
    "    # reverse the (n-k) elements\n",
    "    reverse_rec(arr,k,len(arr)-1)\n",
    "    \n",
    "arr = [1,2,3,4,5,6]\n",
    "rotate_k_times(arr,20)\n",
    "print(arr)"
   ]
  },
  {
   "cell_type": "code",
   "execution_count": null,
   "id": "e644c62c-38c4-4850-b158-2ce363d7b351",
   "metadata": {},
   "outputs": [],
   "source": [
    "# We used the reverse_rec program to reverse the array in the last program\n",
    "# at every step .\n",
    "\n",
    "# this program has complexity O(n) for every reversing . Hence the total\n",
    "# complexity of the program is also O(n).\n"
   ]
  },
  {
   "cell_type": "code",
   "execution_count": null,
   "id": "51391f2f-1dc9-43b8-8307-3eee7d895770",
   "metadata": {},
   "outputs": [],
   "source": []
  }
 ],
 "metadata": {
  "kernelspec": {
   "display_name": "Python 3 (ipykernel)",
   "language": "python",
   "name": "python3"
  },
  "language_info": {
   "codemirror_mode": {
    "name": "ipython",
    "version": 3
   },
   "file_extension": ".py",
   "mimetype": "text/x-python",
   "name": "python",
   "nbconvert_exporter": "python",
   "pygments_lexer": "ipython3",
   "version": "3.10.8"
  }
 },
 "nbformat": 4,
 "nbformat_minor": 5
}
