{
 "cells": [
  {
   "cell_type": "code",
   "execution_count": null,
   "id": "23e35ee2-e07c-4220-80c7-6a24ab3dce17",
   "metadata": {},
   "outputs": [],
   "source": [
    "'''\n",
    "Stack \n",
    "-----\n",
    "Data Structure all about arranging data\n",
    "\n",
    "so that we can do 2 things better\n",
    "Ds -- > Storage\n",
    "   ---> Computation\n",
    "\n",
    "Under data structure we have linear and non linear data structure\n",
    "\n",
    "Under Linear DS we have arrays , linked list , stack and queue.\n",
    "\n",
    "Stack - FILO / LIFO - When we arrange the data in first in last out or\n",
    "last in first out then that's called Stack Data Structure.\n",
    "\n",
    "Examples of Applications :\n",
    "\n",
    "1. When we click undo option in any software it follows the Stack\n",
    "   data structure , eg all editors for writing code(the ctrl+z function)\n",
    "   \n",
    "2. When we open our browser , in the browsing history , the last site \n",
    "   that we saw will be at the top .\n",
    "   \n",
    "Stack\n",
    "push - to insert an element\n",
    "pop - to remove an element\n",
    "traverse - to traverse the stack\n",
    "peek - to see which element is at top without removing it.\n",
    "\n",
    "          top is the last element inserted.\n",
    "\n",
    "We have to build the stack with already available things in Python ,\n",
    "bcz there is nothing in-built in Python called stack.\n",
    "\n",
    "So we will build stack using an array(or list) or using a\n",
    "linked list.\n",
    "\n",
    "Creation of stack using array(list)\n",
    "To define a stack class,\n",
    "we need three things for that :\n",
    "\n",
    "An array\n",
    "Size or Capacity of array\n",
    "Pointer to indicate the top of the stack.\n",
    "\n",
    "\n",
    "'''"
   ]
  },
  {
   "cell_type": "code",
   "execution_count": 25,
   "id": "6dc7d003-f939-4b32-9955-58cf3e808df4",
   "metadata": {},
   "outputs": [],
   "source": [
    "# Code to define Stack Class using Array (or List).\n",
    "\n",
    "class Stack:\n",
    "    def __init__(self,capacity): \n",
    "        self.top = -1 #in the beginning the stack will be empty . top=-1 indicates there is no element in the stack.\n",
    "        self.capacity = capacity\n",
    "        self.arr=[None]*capacity\n",
    "        \n",
    "        \n",
    "    def isEmpty(self):\n",
    "        return self.top == -1 # it means if self.top== -1 return true\n",
    "    \n",
    "    def isFull(self):\n",
    "        return self.top == self.capacity - 1\n",
    "    \n",
    "    def push(self,data):\n",
    "        # Check if it is full\n",
    "        if self.isFull():\n",
    "            print(\"Stack Overflow\")\n",
    "            return\n",
    "        self.top +=1\n",
    "        self.arr[self.top] = data\n",
    "        \n",
    "    def pop(self):\n",
    "        # Check if it's empty\n",
    "        if self.isEmpty():\n",
    "            print(\"Stack Underflow\")\n",
    "            return\n",
    "        data = self.arr[self.top]\n",
    "        self.arr[self.top] = None\n",
    "        self.top -=1\n",
    "        return data\n",
    "            \n",
    "    def traverse(self):\n",
    "        for i in range(self.top+1):\n",
    "            print(self.arr[i], end=\",\")\n",
    "            \n",
    "    def peek(self):\n",
    "        # Check if it's empty\n",
    "        if self.isEmpty():\n",
    "            print(\"Stack Underflow\")\n",
    "            return\n",
    "        data = self.arr[self.top]\n",
    "        return data  \n",
    "    # peek is almost same as pop but here\n",
    "    # we are not decrementing the top value\n",
    "        "
   ]
  },
  {
   "cell_type": "code",
   "execution_count": 27,
   "id": "ae5b1edf-9303-4f44-ba1d-7ef8c94e39d5",
   "metadata": {},
   "outputs": [],
   "source": [
    "stack = Stack(5) # created a stack object with capacity 5."
   ]
  },
  {
   "cell_type": "code",
   "execution_count": 15,
   "id": "1353c327-eafc-4610-9b2c-23ac06b03650",
   "metadata": {},
   "outputs": [
    {
     "name": "stdout",
     "output_type": "stream",
     "text": [
      "True\n"
     ]
    }
   ],
   "source": [
    "print(stack.isEmpty())"
   ]
  },
  {
   "cell_type": "code",
   "execution_count": 28,
   "id": "30ae24d2-3f81-413a-9ec2-acd44f2e1275",
   "metadata": {},
   "outputs": [],
   "source": [
    "stack.push(3)\n",
    "stack.push(8)\n",
    "stack.push(2)\n",
    "stack.push(9)"
   ]
  },
  {
   "cell_type": "code",
   "execution_count": 17,
   "id": "3e8c33ad-5fc8-4797-924c-d9241598de2f",
   "metadata": {},
   "outputs": [
    {
     "name": "stdout",
     "output_type": "stream",
     "text": [
      "False\n"
     ]
    }
   ],
   "source": [
    "print(stack.isEmpty())"
   ]
  },
  {
   "cell_type": "code",
   "execution_count": 18,
   "id": "f8f44efd-0475-42ed-9e8c-9e1f31429aab",
   "metadata": {},
   "outputs": [
    {
     "name": "stdout",
     "output_type": "stream",
     "text": [
      "2\n"
     ]
    }
   ],
   "source": [
    "print(stack.pop())"
   ]
  },
  {
   "cell_type": "code",
   "execution_count": 19,
   "id": "7e5f00aa-7138-496a-8147-ab3fef0d3ba7",
   "metadata": {},
   "outputs": [
    {
     "name": "stdout",
     "output_type": "stream",
     "text": [
      "8\n"
     ]
    }
   ],
   "source": [
    "print(stack.pop())"
   ]
  },
  {
   "cell_type": "code",
   "execution_count": 20,
   "id": "e2716140-bccb-415f-95b0-6d479d089bce",
   "metadata": {},
   "outputs": [
    {
     "name": "stdout",
     "output_type": "stream",
     "text": [
      "3\n"
     ]
    }
   ],
   "source": [
    "print(stack.pop())"
   ]
  },
  {
   "cell_type": "code",
   "execution_count": 21,
   "id": "cc32f454-40bd-4ed9-8bf6-619be209b488",
   "metadata": {},
   "outputs": [
    {
     "name": "stdout",
     "output_type": "stream",
     "text": [
      "True\n"
     ]
    }
   ],
   "source": [
    "print(stack.isEmpty())"
   ]
  },
  {
   "cell_type": "code",
   "execution_count": 22,
   "id": "1582b283-f276-4f07-a9db-31f53ee67e24",
   "metadata": {},
   "outputs": [
    {
     "name": "stdout",
     "output_type": "stream",
     "text": [
      "Stack Underflow\n",
      "None\n"
     ]
    }
   ],
   "source": [
    "print(stack.pop())"
   ]
  },
  {
   "cell_type": "code",
   "execution_count": 23,
   "id": "28ac50a6-f35c-4c6b-95f3-2d9ec6620e96",
   "metadata": {},
   "outputs": [
    {
     "name": "stdout",
     "output_type": "stream",
     "text": [
      "3,8,2,None,None,"
     ]
    }
   ],
   "source": [
    "stack.traverse()"
   ]
  },
  {
   "cell_type": "code",
   "execution_count": 6,
   "id": "6e625663-b53a-4fb9-86aa-fa799c247487",
   "metadata": {},
   "outputs": [
    {
     "data": {
      "text/plain": [
       "2"
      ]
     },
     "execution_count": 6,
     "metadata": {},
     "output_type": "execute_result"
    }
   ],
   "source": [
    "stack.pop()"
   ]
  },
  {
   "cell_type": "code",
   "execution_count": 7,
   "id": "c1336510-0723-4458-81e7-b79db4ac31ce",
   "metadata": {},
   "outputs": [
    {
     "name": "stdout",
     "output_type": "stream",
     "text": [
      "3,8,2,None,None,"
     ]
    }
   ],
   "source": [
    "stack.traverse()"
   ]
  },
  {
   "cell_type": "code",
   "execution_count": 8,
   "id": "9b8fee16-7d47-44ef-a101-e14b078160fd",
   "metadata": {},
   "outputs": [
    {
     "data": {
      "text/plain": [
       "8"
      ]
     },
     "execution_count": 8,
     "metadata": {},
     "output_type": "execute_result"
    }
   ],
   "source": [
    "stack.peek()"
   ]
  },
  {
   "cell_type": "code",
   "execution_count": 5,
   "id": "9069e4da-30b4-4d0f-8123-865061f39e64",
   "metadata": {},
   "outputs": [
    {
     "name": "stdout",
     "output_type": "stream",
     "text": [
      "3,8,2,None,None,"
     ]
    }
   ],
   "source": [
    "stack.traverse()"
   ]
  },
  {
   "cell_type": "code",
   "execution_count": 6,
   "id": "aa1307a8-66ac-4724-af61-7cddf01c879d",
   "metadata": {},
   "outputs": [
    {
     "data": {
      "text/plain": [
       "2"
      ]
     },
     "execution_count": 6,
     "metadata": {},
     "output_type": "execute_result"
    }
   ],
   "source": [
    "stack.pop()"
   ]
  },
  {
   "cell_type": "code",
   "execution_count": 11,
   "id": "291231be-5ee2-486a-9bf8-026d9fc59410",
   "metadata": {},
   "outputs": [
    {
     "name": "stdout",
     "output_type": "stream",
     "text": [
      "3,8,2,9,None,"
     ]
    }
   ],
   "source": [
    "stack.traverse()"
   ]
  },
  {
   "cell_type": "code",
   "execution_count": 12,
   "id": "73acccf2-d148-4d8c-9a28-79fbf4887f4e",
   "metadata": {},
   "outputs": [
    {
     "data": {
      "text/plain": [
       "9"
      ]
     },
     "execution_count": 12,
     "metadata": {},
     "output_type": "execute_result"
    }
   ],
   "source": [
    "stack.pop()"
   ]
  },
  {
   "cell_type": "code",
   "execution_count": 29,
   "id": "e22b65e2-d7fa-4836-871c-168682751543",
   "metadata": {},
   "outputs": [
    {
     "name": "stdout",
     "output_type": "stream",
     "text": [
      "3,8,2,9,"
     ]
    }
   ],
   "source": [
    "stack.traverse()"
   ]
  },
  {
   "cell_type": "code",
   "execution_count": 30,
   "id": "5c685d0e-04e4-4ed7-81ac-0e1c5a042783",
   "metadata": {},
   "outputs": [
    {
     "data": {
      "text/plain": [
       "9"
      ]
     },
     "execution_count": 30,
     "metadata": {},
     "output_type": "execute_result"
    }
   ],
   "source": [
    "stack.pop()"
   ]
  },
  {
   "cell_type": "code",
   "execution_count": 31,
   "id": "7af9b471-c25c-4e16-bb0a-bfbe918534ca",
   "metadata": {},
   "outputs": [
    {
     "data": {
      "text/plain": [
       "2"
      ]
     },
     "execution_count": 31,
     "metadata": {},
     "output_type": "execute_result"
    }
   ],
   "source": [
    "stack.peek()"
   ]
  },
  {
   "cell_type": "code",
   "execution_count": 32,
   "id": "6e624d3e-66e9-4431-9415-9484733a977e",
   "metadata": {},
   "outputs": [
    {
     "name": "stdout",
     "output_type": "stream",
     "text": [
      "3,8,2,"
     ]
    }
   ],
   "source": [
    "stack.traverse()"
   ]
  },
  {
   "cell_type": "code",
   "execution_count": null,
   "id": "64dd52fd-0eec-4db1-868c-496f63ff88a8",
   "metadata": {},
   "outputs": [],
   "source": [
    "# What is the drawback of Stack ?\n",
    "\n",
    "# The drawback is since array has been used to make the stack ,\n",
    "# so we have fixed size. In case of huge data , we might not make a\n",
    "# correct prediction of the stack size that is required , then it might lead to\n",
    "# data loss.\n",
    "\n",
    "# For dynamic sizing we can make stack using linked list.\n"
   ]
  },
  {
   "cell_type": "code",
   "execution_count": null,
   "id": "a997a162-03dc-4c54-8d9e-9073e33ec17e",
   "metadata": {},
   "outputs": [],
   "source": [
    "# Stack which uses Linked List to store the data\n",
    "'''\n",
    "in beginning head = None \n",
    "push(5) , head becomes 5\n",
    "push(7) , 5 -> 7\n",
    "push(8) , 5 -> 7 -> 8\n",
    "but if we add data like this , we have to jump from head\n",
    "to the new node to add the data so it takes O(n) time but\n",
    "we need to devise a method which pushes data into the stack\n",
    "in constant time i.e. O(1) .\n",
    "\n",
    "So what we can do is we can insert the new element at the head only i.e.\n",
    "5 is inserted at the head , then 7 is inserted at the head , then\n",
    "8 is inserted at the head. The head keeps changing with every insertion.\n",
    "That way we can push/pop the last added\n",
    "element in the stack in constant time."
   ]
  },
  {
   "cell_type": "code",
   "execution_count": 1,
   "id": "8c9be9fe-83e2-49a7-a658-33b55c0a291f",
   "metadata": {},
   "outputs": [],
   "source": [
    "class Node :\n",
    "    def __init__(self, data, next=None):\n",
    "        self.data = data\n",
    "        self.next = next\n",
    "    \n",
    "    def getData(self):\n",
    "        return self.data\n",
    "    \n",
    "    def setData(self,data):\n",
    "        self.data = data\n",
    "        \n",
    "    def setNext(self,next):\n",
    "        self.next = next\n",
    "        \n",
    "    def getNext(self):\n",
    "        return self.next"
   ]
  },
  {
   "cell_type": "code",
   "execution_count": 2,
   "id": "a8a0369e-9c61-4cd6-b50d-ccd35862f821",
   "metadata": {},
   "outputs": [],
   "source": [
    "class StackLL :\n",
    "    def __init__(self):\n",
    "        self.head = None # in the beginning stack is empty\n",
    "                         #so head is none\n",
    "            \n",
    "    def isEmpty(self):\n",
    "        return self.head == None # checking if None return true\n",
    "    \n",
    "    def push(self, data):\n",
    "        node = Node(data) # create a new node with the given data\n",
    "        node.setNext(self.head)\n",
    "        self.head = node\n",
    "        \n",
    "    def pop(self):\n",
    "        if(self.isEmpty()):\n",
    "            print(\"Stack Underflow\")\n",
    "            return\n",
    "        data = self.head.getData()\n",
    "        self.head = self.head.getNext()\n",
    "        return data\n",
    "    \n",
    "    def peek(self):\n",
    "        if(self.isEmpty()):\n",
    "            print(\"Stack Underflow\")\n",
    "            return\n",
    "        data = self.head.getData() # No changes in the head\n",
    "        return data\n",
    "    \n",
    "    def size(self): # Find the current size of stack\n",
    "        c = 0\n",
    "        temp = self.head\n",
    "        while(temp):\n",
    "            c +=1\n",
    "            temp = temp.getNext()\n",
    "        return c\n",
    "            \n",
    "    def traverse(self): # traverse the elements of the stack\n",
    "        temp = self.head\n",
    "        while(temp):\n",
    "            print(temp.getData(),end=\" -> \")\n",
    "            temp=temp.getNext()\n",
    "            "
   ]
  },
  {
   "cell_type": "code",
   "execution_count": 3,
   "id": "ef96d9d4-fbb8-4be5-a0ad-4cc68f4c5f2d",
   "metadata": {},
   "outputs": [],
   "source": [
    "stackll = StackLL()"
   ]
  },
  {
   "cell_type": "code",
   "execution_count": 30,
   "id": "9147114a-1a66-436a-a3f5-d2de59e2ad7b",
   "metadata": {},
   "outputs": [
    {
     "data": {
      "text/plain": [
       "True"
      ]
     },
     "execution_count": 30,
     "metadata": {},
     "output_type": "execute_result"
    }
   ],
   "source": [
    "stackll.isEmpty()"
   ]
  },
  {
   "cell_type": "code",
   "execution_count": 4,
   "id": "a2e7f002-4438-4079-ab94-4857d5a7d11e",
   "metadata": {},
   "outputs": [],
   "source": [
    "stackll.push(5)"
   ]
  },
  {
   "cell_type": "code",
   "execution_count": 5,
   "id": "b9d19a58-627a-4955-b56d-068e40a85ca5",
   "metadata": {},
   "outputs": [],
   "source": [
    "stackll.push(7)"
   ]
  },
  {
   "cell_type": "code",
   "execution_count": 33,
   "id": "a955b359-4d97-4767-ad9c-6cdb84f434d5",
   "metadata": {},
   "outputs": [
    {
     "data": {
      "text/plain": [
       "2"
      ]
     },
     "execution_count": 33,
     "metadata": {},
     "output_type": "execute_result"
    }
   ],
   "source": [
    "stackll.size()"
   ]
  },
  {
   "cell_type": "code",
   "execution_count": 6,
   "id": "1e51b809-4800-4b44-ab85-13ba417644ce",
   "metadata": {},
   "outputs": [
    {
     "name": "stdout",
     "output_type": "stream",
     "text": [
      "7 -> 5 -> "
     ]
    }
   ],
   "source": [
    "stackll.traverse()"
   ]
  },
  {
   "cell_type": "code",
   "execution_count": 35,
   "id": "572b59d6-b672-43f8-95c8-423c35a1422b",
   "metadata": {},
   "outputs": [
    {
     "data": {
      "text/plain": [
       "7"
      ]
     },
     "execution_count": 35,
     "metadata": {},
     "output_type": "execute_result"
    }
   ],
   "source": [
    "stackll.peek()"
   ]
  },
  {
   "cell_type": "code",
   "execution_count": 36,
   "id": "c9a8a4b8-bbd5-4f0d-95a5-74c13628cffa",
   "metadata": {},
   "outputs": [
    {
     "data": {
      "text/plain": [
       "7"
      ]
     },
     "execution_count": 36,
     "metadata": {},
     "output_type": "execute_result"
    }
   ],
   "source": [
    "stackll.pop()"
   ]
  },
  {
   "cell_type": "code",
   "execution_count": 37,
   "id": "e26654f8-af5a-4524-8cfe-0f5ea64dfa6a",
   "metadata": {},
   "outputs": [
    {
     "name": "stdout",
     "output_type": "stream",
     "text": [
      "5 -> "
     ]
    }
   ],
   "source": [
    "stackll.traverse()"
   ]
  },
  {
   "cell_type": "code",
   "execution_count": 38,
   "id": "dd069b93-802e-4df5-81ac-9840bc167068",
   "metadata": {},
   "outputs": [
    {
     "data": {
      "text/plain": [
       "1"
      ]
     },
     "execution_count": 38,
     "metadata": {},
     "output_type": "execute_result"
    }
   ],
   "source": [
    "stackll.size()"
   ]
  },
  {
   "cell_type": "code",
   "execution_count": 4,
   "id": "c1d7cee9-4ead-49c0-aacf-a7cc2587c2df",
   "metadata": {},
   "outputs": [],
   "source": [
    "stackll.push(7)\n",
    "stackll.push(9)\n",
    "stackll.push(3)"
   ]
  },
  {
   "cell_type": "code",
   "execution_count": 5,
   "id": "635d89e0-5129-45b4-91ab-86dd57e85e99",
   "metadata": {},
   "outputs": [
    {
     "name": "stdout",
     "output_type": "stream",
     "text": [
      "3 -> 9 -> 7 -> "
     ]
    }
   ],
   "source": [
    "stackll.traverse()"
   ]
  },
  {
   "cell_type": "code",
   "execution_count": 6,
   "id": "2608e326-d9ee-4ee9-99fb-bb457507dfa6",
   "metadata": {},
   "outputs": [
    {
     "data": {
      "text/plain": [
       "3"
      ]
     },
     "execution_count": 6,
     "metadata": {},
     "output_type": "execute_result"
    }
   ],
   "source": [
    "stackll.pop()"
   ]
  },
  {
   "cell_type": "code",
   "execution_count": 7,
   "id": "83d70cae-cdbb-4fdf-bfa1-b35bc63f69d5",
   "metadata": {},
   "outputs": [
    {
     "name": "stdout",
     "output_type": "stream",
     "text": [
      "9 -> 7 -> "
     ]
    }
   ],
   "source": [
    "stackll.traverse()"
   ]
  },
  {
   "cell_type": "code",
   "execution_count": 8,
   "id": "f001afd1-70b4-4251-b9fd-11d493af20bd",
   "metadata": {},
   "outputs": [
    {
     "data": {
      "text/plain": [
       "9"
      ]
     },
     "execution_count": 8,
     "metadata": {},
     "output_type": "execute_result"
    }
   ],
   "source": [
    "stackll.peek()"
   ]
  },
  {
   "cell_type": "code",
   "execution_count": 9,
   "id": "06295ba2-1b99-4e90-9a31-c6a9ff37bbe6",
   "metadata": {},
   "outputs": [
    {
     "data": {
      "text/plain": [
       "False"
      ]
     },
     "execution_count": 9,
     "metadata": {},
     "output_type": "execute_result"
    }
   ],
   "source": [
    "stackll.isEmpty()"
   ]
  },
  {
   "cell_type": "code",
   "execution_count": 13,
   "id": "28ac5087-7c42-4bcd-b9e6-cf0bf25bb43c",
   "metadata": {},
   "outputs": [],
   "source": [
    "# Questions and Implementations of Stack .\n",
    "\n",
    "# Balance Parenthesis problem \n",
    "'''\n",
    "whether a bracket that has been opened , has been closed or not.\n",
    "If closed then balanced.\n",
    "\n",
    "Logic of code :\n",
    "\n",
    "The opening braces will be pushed in the stack , one above the other.\n",
    "Then the moment a closing brace appears , we will pop out the last\n",
    "entered brace from the stack and compare if they match. If they do then\n",
    "we pop out that last entered brace and proceed to check similarly for\n",
    "next ones. If they dont match , then its unbalanced.\n",
    "\n",
    "Also if we see that all other braces have matched but we are left\n",
    "with one last brace in the stack , then also its unbalanced.\n",
    "\n",
    "'''\n",
    "\n",
    "def areBracketsBalanced(exp):\n",
    "    \n",
    "    # Define a stack object\n",
    "    stack = StackLL()\n",
    "    \n",
    "    # iterate through each bracket in the given expression\n",
    "    for c in exp :\n",
    "        if c in ['(' , '{' , '['] :\n",
    "            stack.push(c) # if c is one of the opening bracket, then push to the stack.\n",
    "        else :\n",
    "            if stack.isEmpty():\n",
    "                return False\n",
    "            char = stack.pop()\n",
    "            if char == \"(\" and c != \")\" :\n",
    "                return False\n",
    "            elif char == \"{\" and c != \"}\" :\n",
    "                return False\n",
    "            elif char == \"[\" and c != \"]\" :\n",
    "                return False\n",
    "    return stack.isEmpty()  # If its true it means exp is balanced\n",
    "    "
   ]
  },
  {
   "cell_type": "code",
   "execution_count": 14,
   "id": "c10a107f-b904-4b01-882b-02cdbb285266",
   "metadata": {},
   "outputs": [
    {
     "name": "stdout",
     "output_type": "stream",
     "text": [
      "True\n"
     ]
    }
   ],
   "source": [
    "print(areBracketsBalanced(\"{[()]{}}\"))"
   ]
  },
  {
   "cell_type": "code",
   "execution_count": 15,
   "id": "98f7562d-0f9b-4843-b46b-171297a90e86",
   "metadata": {},
   "outputs": [
    {
     "name": "stdout",
     "output_type": "stream",
     "text": [
      "False\n"
     ]
    }
   ],
   "source": [
    "print(areBracketsBalanced(\"{[()]{}\"))"
   ]
  },
  {
   "cell_type": "code",
   "execution_count": 144,
   "id": "e244642f-2fd7-419a-82a7-a4c5b0e54fa3",
   "metadata": {},
   "outputs": [],
   "source": [
    "# Assignment Problem\n",
    "'''\n",
    "Delete the middle element of the stack and you are allowed to\n",
    "use only the push and pop methods of the stack. You cant manipulate the\n",
    "internal data structure used to store the data.\n",
    "\n",
    "'''\n",
    "\n",
    "def deleteMiddle(stack1):\n",
    "    # Implement this method --> push/pop/peek you can use .\n",
    "    sizeofstack = stack1.size()\n",
    "    mid = int(sizeofstack/2)\n",
    "    stack2 = StackLL() # Extra Space\n",
    "    \n",
    "    count = 0\n",
    "    while(count < mid):\n",
    "        stack2.push(stack1.pop())\n",
    "        count+=1\n",
    "        \n",
    "    stack1.pop()\n",
    "    while(not stack2.isEmpty()):\n",
    "        stack1.push(stack2.pop())\n",
    "        \n",
    "            \n",
    "stack1 = StackLL()\n",
    "stack1.push(7)\n",
    "stack1.push(9)\n",
    "stack1.push(3)\n",
    "stack1.push(2)\n",
    "stack1.push(1)\n",
    "stack1.push(10)\n",
    "stack1.push(99)\n"
   ]
  },
  {
   "cell_type": "code",
   "execution_count": 145,
   "id": "cda96507-2e90-42bb-bf71-a31951e09295",
   "metadata": {},
   "outputs": [
    {
     "name": "stdout",
     "output_type": "stream",
     "text": [
      "99 -> 10 -> 1 -> 2 -> 3 -> 9 -> 7 -> "
     ]
    }
   ],
   "source": [
    "stack1.traverse()"
   ]
  },
  {
   "cell_type": "code",
   "execution_count": 146,
   "id": "c2c05731-b911-4f2c-ae7d-844d228a7491",
   "metadata": {},
   "outputs": [],
   "source": [
    "deleteMiddle(stack1)"
   ]
  },
  {
   "cell_type": "code",
   "execution_count": 147,
   "id": "b8206f4e-4289-4bf2-981f-4297109a8ed0",
   "metadata": {},
   "outputs": [
    {
     "name": "stdout",
     "output_type": "stream",
     "text": [
      "99 -> 10 -> 1 -> 3 -> 9 -> 7 -> "
     ]
    }
   ],
   "source": [
    "stack1.traverse()"
   ]
  },
  {
   "cell_type": "code",
   "execution_count": 3,
   "id": "4f602b1c-a85f-4091-acac-8ad337820730",
   "metadata": {},
   "outputs": [],
   "source": [
    "# Another method where we cant use extra stack space.\n",
    "\n",
    "'''\n",
    "Logic : We cant use extra stack but we know recursion uses\n",
    "call stack within itself. So we can make use of that if we use\n",
    "recursion to solve this problem.\n",
    "\n",
    "'''\n",
    "\n",
    "def deleteMiddle(s,sizeOfStack, curr):\n",
    "    if (s.isEmpty() or curr == sizeOfStack):\n",
    "        return\n",
    "    \n",
    "    # Remove the current item\n",
    "    x = s.pop()\n",
    "    \n",
    "    # Recursively call the function\n",
    "    deleteMiddle(s,sizeOfStack, curr+1)\n",
    "    \n",
    "    # Put the item back\n",
    "    if(curr != int(sizeOfStack/2)):\n",
    "        s.push(x)\n",
    "        "
   ]
  },
  {
   "cell_type": "code",
   "execution_count": 4,
   "id": "f2ec5569-3e79-460e-ba70-07743bd64060",
   "metadata": {},
   "outputs": [
    {
     "name": "stdout",
     "output_type": "stream",
     "text": [
      "3 -> 1 -> 2 -> "
     ]
    }
   ],
   "source": [
    "s = StackLL()\n",
    "s.push(2)\n",
    "s.push(1)\n",
    "s.push(3)\n",
    "size = s.size()\n",
    "s.traverse()"
   ]
  },
  {
   "cell_type": "code",
   "execution_count": 5,
   "id": "e056d829-4ec5-48bc-b76d-2b00c2909abb",
   "metadata": {},
   "outputs": [],
   "source": [
    "deleteMiddle(s,size,0)"
   ]
  },
  {
   "cell_type": "code",
   "execution_count": 6,
   "id": "e2bc46fe-156e-4262-b363-646f10d500e6",
   "metadata": {},
   "outputs": [
    {
     "name": "stdout",
     "output_type": "stream",
     "text": [
      "3 -> 2 -> "
     ]
    }
   ],
   "source": [
    "s.traverse()"
   ]
  },
  {
   "cell_type": "code",
   "execution_count": null,
   "id": "2634ae81-b186-4a8e-bf1f-4c1daa066e13",
   "metadata": {},
   "outputs": [],
   "source": []
  }
 ],
 "metadata": {
  "kernelspec": {
   "display_name": "Python 3 (ipykernel)",
   "language": "python",
   "name": "python3"
  },
  "language_info": {
   "codemirror_mode": {
    "name": "ipython",
    "version": 3
   },
   "file_extension": ".py",
   "mimetype": "text/x-python",
   "name": "python",
   "nbconvert_exporter": "python",
   "pygments_lexer": "ipython3",
   "version": "3.10.8"
  }
 },
 "nbformat": 4,
 "nbformat_minor": 5
}
