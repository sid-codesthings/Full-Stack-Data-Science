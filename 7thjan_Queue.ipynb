{
 "cells": [
  {
   "cell_type": "code",
   "execution_count": null,
   "id": "027934e9-916e-46d8-9042-dab68939763c",
   "metadata": {},
   "outputs": [],
   "source": [
    "# Queue Data Structure\n",
    "\n",
    "'''\n",
    "FIFO / LILO - First in First out , Last in Last out\n",
    "\n",
    "Used in \n",
    "1.Operating system resource scheduling\n",
    "2.Load Balancers\n",
    "3.Kafka - a distributed messaging system , internally maintains\n",
    "the order of messages through queue.\n",
    "\n",
    "insert in queue - en Queue - O(1) complexity i.e. constant\n",
    "remove elements from queue - de Queue - O(1) complexity\n",
    "\n",
    "We can implement queue using \n",
    "1.arrays\n",
    "2.linkedlist\n",
    "\n",
    "front - index where we enqueue\n",
    "rear - index where we dequeue (starts from 0)\n",
    "\n",
    "In the beginning when no element is in array\n",
    "value of\n",
    "front = -1\n",
    "rear = -1\n",
    "\n",
    "after first enqueue , front and rear both become 0 indicating \n",
    "first position in array.\n",
    "\n",
    "After 2nd enqueue, front increases and becomes 1 but rear stays at\n",
    "0 bcz rear will be increased only when a dequeue is done. And then\n",
    "the front will stay the same.\n",
    "\n",
    "dequeue will basically pop out the element from rear position\n",
    "which is initially 0 (the position of rear) after \n",
    "first element insertion.\n",
    "\n",
    "\n",
    "'''"
   ]
  },
  {
   "cell_type": "code",
   "execution_count": null,
   "id": "24aff114-fb8a-4ae3-b647-5b173f6a4002",
   "metadata": {},
   "outputs": [],
   "source": [
    "# 1:50:18"
   ]
  },
  {
   "cell_type": "code",
   "execution_count": 75,
   "id": "ee7efea9-eb37-4089-ad3a-1a29288b8760",
   "metadata": {},
   "outputs": [],
   "source": [
    "class Queue :\n",
    "    def __init__(self, capacity):\n",
    "        self.arr = [None]*capacity\n",
    "        self.capacity = capacity\n",
    "        self.front = -1\n",
    "        self.rear = -1 #in the beginning both front and rear should be -1\n",
    "        self.size = 0\n",
    "        \n",
    "    def isEmpty(self):\n",
    "        return self.front == -1\n",
    "    \n",
    "    def isFull(self):\n",
    "        return (self.front + 1)%self.capacity == self.rear\n",
    "    \n",
    "    def enQueue(self,data):\n",
    "        if self.isFull():\n",
    "            print(\"Queue Overflow\")\n",
    "            return\n",
    "        #Move the front to the right one position\n",
    "        self.front = (self.front + 1) % self.capacity\n",
    "        self.arr[self.front] = data\n",
    "    \n",
    "        if self.rear == -1: # when the first element is inserted\n",
    "            self.rear = 0\n",
    "        self.size +=1   \n",
    "    def deQueue(self):\n",
    "        if self.isEmpty():\n",
    "            print(\"Queue Underflow\")\n",
    "            return\n",
    "        data = self.arr[self.rear]\n",
    "        # check if this was the only element\n",
    "        if self.rear == self.front :\n",
    "            self.rear = -1\n",
    "            self.front = -1\n",
    "            # because it was the only element and after removal its empty.\n",
    "        else:\n",
    "            self.rear = (self.rear+1)%self.capacity \n",
    "            # ensure we are in correct index range\n",
    "        return data\n",
    "        self.size -=1\n",
    "    def length():\n",
    "        return self.size\n",
    "    \n",
    "    def traverse(self):\n",
    "        for i in range(self.size):\n",
    "            print(self.arr[(self.rear+i)%self.capacity],end=\" , \")\n",
    "    "
   ]
  },
  {
   "cell_type": "code",
   "execution_count": 76,
   "id": "44f294fb-385d-48f9-b006-b8cff1cadd6c",
   "metadata": {},
   "outputs": [],
   "source": [
    "q = Queue(5)"
   ]
  },
  {
   "cell_type": "code",
   "execution_count": 77,
   "id": "dcc05811-745b-426e-9fd8-d776bd61f1ba",
   "metadata": {},
   "outputs": [
    {
     "data": {
      "text/plain": [
       "True"
      ]
     },
     "execution_count": 77,
     "metadata": {},
     "output_type": "execute_result"
    }
   ],
   "source": [
    "q.isEmpty()"
   ]
  },
  {
   "cell_type": "code",
   "execution_count": 78,
   "id": "f77308de-e586-47ea-8616-bed0d5d323bd",
   "metadata": {},
   "outputs": [
    {
     "data": {
      "text/plain": [
       "False"
      ]
     },
     "execution_count": 78,
     "metadata": {},
     "output_type": "execute_result"
    }
   ],
   "source": [
    "q.isFull()"
   ]
  },
  {
   "cell_type": "code",
   "execution_count": 79,
   "id": "90d1abd0-d47c-46a0-8eb3-b542899c52b0",
   "metadata": {},
   "outputs": [],
   "source": [
    "q.enQueue(4)\n",
    "q.enQueue(5)\n",
    "q.enQueue(3)"
   ]
  },
  {
   "cell_type": "code",
   "execution_count": 80,
   "id": "9c3ec173-3a62-4f3a-9cc1-15998f4ed779",
   "metadata": {},
   "outputs": [
    {
     "name": "stdout",
     "output_type": "stream",
     "text": [
      "4 , 5 , 3 , "
     ]
    }
   ],
   "source": [
    "q.traverse()"
   ]
  },
  {
   "cell_type": "code",
   "execution_count": 83,
   "id": "7b7d8a97-ef9b-49db-977a-a854f7008f04",
   "metadata": {},
   "outputs": [
    {
     "name": "stdout",
     "output_type": "stream",
     "text": [
      "3\n"
     ]
    }
   ],
   "source": [
    "print(q.deQueue())"
   ]
  },
  {
   "cell_type": "code",
   "execution_count": null,
   "id": "c1d72894-7e42-4d14-bda3-af30275c6658",
   "metadata": {},
   "outputs": [],
   "source": [
    "# Size represents the size of the queue at any instant of time.\n",
    "# And capacity represents the size of the array."
   ]
  },
  {
   "cell_type": "code",
   "execution_count": 1,
   "id": "da771bc1-f805-4a21-8efc-c845480fd704",
   "metadata": {},
   "outputs": [],
   "source": [
    "# Lets see now how Queue can make use of Linked List\n",
    "# as its internal data structure.\n",
    "\n",
    "# Implementing Queue with Linked List :\n",
    "\n",
    "class Node :\n",
    "    def __init__(self, data, next=None):\n",
    "        self.data = data\n",
    "        self.next = next\n",
    "    \n",
    "    def getData(self):\n",
    "        return self.data\n",
    "    \n",
    "    def setData(self,data):\n",
    "        self.data = data\n",
    "        \n",
    "    def setNext(self,next):\n",
    "        self.next = next\n",
    "        \n",
    "    def getNext(self):\n",
    "        return self.next\n"
   ]
  },
  {
   "cell_type": "code",
   "execution_count": null,
   "id": "31500b9c-178b-4c71-9dba-77b2980c61f4",
   "metadata": {},
   "outputs": [],
   "source": [
    "class QueueLL:\n",
    "    def __init__(self):\n",
    "        self.head = None\n",
    "        self.tail = None\n",
    "        self.size = 0\n",
    "        \n",
    "    def isEmpty(self):\n",
    "        return self.head == None # or self.tail == None\n",
    "    \n",
    "    # isFull function not required cz its LL so dynamic sizing\n",
    "    # here.\n",
    "    \n",
    "    def enQueue(self,data):\n",
    "        node = Node(data)\n",
    "        \n",
    "        if self.isEmpty():\n",
    "            self.head = node\n",
    "            self.tail = node\n",
    "        else:\n",
    "            self.tail.setNext(node)\n",
    "            self.tail = self.tail.getNext()\n",
    "        self.size +=1\n",
    "        \n",
    "    def deQueue(self):\n",
    "        if self.isEmpty():\n",
    "            print(\"Queue underflow\")\n",
    "            return\n",
    "        data = self.head.getData()\n",
    "        \n",
    "        # if its the only element\n",
    "        if self.head == self.tail :\n",
    "            self.head = None\n",
    "            self.tail = None # because after dequeue, queue will be empty\n",
    "            \n",
    "        else:\n",
    "            self.head = self.head.getNext()\n",
    "        self.size -=1\n",
    "        return data\n",
    "    \n",
    "    def traverse(self):\n",
    "        temp = self.head\n",
    "        while(temp):\n",
    "            print(temp.getData(),end=\"->\")\n",
    "            temp = temp.getNext()\n",
    "        print()"
   ]
  }
 ],
 "metadata": {
  "kernelspec": {
   "display_name": "Python 3 (ipykernel)",
   "language": "python",
   "name": "python3"
  },
  "language_info": {
   "codemirror_mode": {
    "name": "ipython",
    "version": 3
   },
   "file_extension": ".py",
   "mimetype": "text/x-python",
   "name": "python",
   "nbconvert_exporter": "python",
   "pygments_lexer": "ipython3",
   "version": "3.10.8"
  }
 },
 "nbformat": 4,
 "nbformat_minor": 5
}
