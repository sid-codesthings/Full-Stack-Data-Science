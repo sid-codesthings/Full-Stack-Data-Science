{
 "cells": [
  {
   "cell_type": "code",
   "execution_count": 1,
   "id": "1cdd896d-f803-43ea-9ee8-f7f87d382cdf",
   "metadata": {},
   "outputs": [
    {
     "data": {
      "text/plain": [
       "5"
      ]
     },
     "execution_count": 1,
     "metadata": {},
     "output_type": "execute_result"
    }
   ],
   "source": [
    "'''\n",
    "Problem 1 : Find the Rotation Count in Rotated Sorted array Input: arr[] = {15, 18, 2, 3, 6, 12} Output: 2 Explanation: Initial array must be {2, 3, 6, 12, 15, 18}. We get the given array \n",
    "after rotating the initial array twice.\n",
    "\n",
    "'''\n",
    "# Logic : index of smallest element = no of rotations\n",
    "def count_rotations(arr):\n",
    "    min = arr[0]\n",
    "    min_index = 0\n",
    "    \n",
    "    for i in range(1,len(arr)):\n",
    "        if min > arr[i] :\n",
    "            min = arr[i]\n",
    "            min_index = i\n",
    "    return min_index\n",
    "\n",
    "#count_rotations([15, 18, 2, 3, 6, 12])\n",
    "count_rotations([18,15,12,6,3,2])"
   ]
  },
  {
   "cell_type": "code",
   "execution_count": 1,
   "id": "cfbf6c92-10f7-4f46-917d-04ddb1a391c1",
   "metadata": {},
   "outputs": [
    {
     "name": "stdout",
     "output_type": "stream",
     "text": [
      "2\n",
      "0\n",
      "5\n",
      "3\n"
     ]
    }
   ],
   "source": [
    "# Solve the same problem with linear search approach .\n",
    "\n",
    "def count_rotations(arr):\n",
    "    for i in range(1,len(arr)-1):\n",
    "        if arr[i] < arr[i-1] and arr[i] < arr[i+1] :\n",
    "            pos = i\n",
    "            return pos\n",
    "            \n",
    "    if arr[0] < arr[len(arr)-1] :\n",
    "        pos = 0\n",
    "        return pos\n",
    "        \n",
    "    elif arr[0] > arr[len(arr)-1] :\n",
    "        pos = len(arr)-1\n",
    "        return pos\n",
    "\n",
    "arr = [15,18,2,3,6,12]\n",
    "arr1 = [2,3,6,12,15,18]\n",
    "arr2 = [3,6,12,15,18,2]\n",
    "arr3=[12,15,18,2,3,6]\n",
    "print(count_rotations(arr))\n",
    "print(count_rotations(arr1))\n",
    "print(count_rotations(arr2)) \n",
    "print(count_rotations(arr3)) "
   ]
  },
  {
   "cell_type": "code",
   "execution_count": null,
   "id": "874422b7-8acf-4372-af90-4ce88c6961e3",
   "metadata": {},
   "outputs": [],
   "source": [
    "# The complexity is still in the order of n i.e. O(n) \n",
    "# But if we have to further optimise it , we have to solve it\n",
    "# using binary search technique .\n",
    "\n",
    "'''\n",
    "binary search revision: input array has to be sorted.\n",
    "But here the input array isn't sorted [15,18,2,3,6,12] .\n",
    "So we have to apply a binary search variation . here 2 parts are sorted\n",
    "15,18 and 2,3,6,12 . The element that we are searching for has one property :\n",
    "it is lesser than the element on the left and also it is lesser than the element on the right.\n",
    "if arr[mid] < arr[mid-1] and arr[mid] < arr[mid+1] then we can return mid .\n",
    "\n",
    "\n",
    "\n",
    "56:48\n",
    "'''"
   ]
  },
  {
   "cell_type": "code",
   "execution_count": 7,
   "id": "de91f9b1-82f8-474e-a002-32b12f798867",
   "metadata": {},
   "outputs": [
    {
     "name": "stdout",
     "output_type": "stream",
     "text": [
      "3\n",
      "5\n"
     ]
    }
   ],
   "source": [
    "def countOfRotations(arr):\n",
    "  start = 0\n",
    "  n = len(arr)\n",
    "  end = n-1\n",
    "\n",
    "  while(start<=end):\n",
    "\n",
    "    mid = int(start+(end-start)/2)\n",
    "\n",
    "    prev = (mid-1+n)%n #ensure the prev index is always correct\n",
    "    next = (mid+1)%n #ensure the next index is always in range\n",
    "\n",
    "    if arr[mid] <arr[prev] and arr[mid]<arr[next]:\n",
    "      return mid\n",
    "    elif arr[mid]<arr[end]:\n",
    "      end = mid-1\n",
    "    else:\n",
    "      start= mid+1\n",
    "\n",
    "\n",
    "\n",
    "print(countOfRotations([12,15,18,2,3,6]))\n",
    "print(countOfRotations([2,3,18,19,20,1]))"
   ]
  },
  {
   "cell_type": "code",
   "execution_count": 2,
   "id": "3a8f52fd-1ade-4d98-a0b7-bd699b6c9c16",
   "metadata": {},
   "outputs": [
    {
     "name": "stdout",
     "output_type": "stream",
     "text": [
      "7 1 6 2 5 3 4 "
     ]
    }
   ],
   "source": [
    "# Problem 2 : Given an array of integers, print the array in such a way that the \n",
    "# first element is first maximum and second element is first minimum and so on. \n",
    "# Examples : Input : arr[] = {7, 1, 2, 3, 4, 5, 6} Output : 7 1 6 2 5 3 4\n",
    "\n",
    "# 1 2 3 4 5 6 7\n",
    "\n",
    "# My Code :\n",
    "def arrayprinting(arr):\n",
    "    for i in range(len(arr)):\n",
    "        min = i\n",
    "        for j in range(i+1,len(arr)):\n",
    "            if arr[j] < arr[min] :\n",
    "                min = j\n",
    "        arr[i] , arr[min] = arr[min] , arr[i]\n",
    "        \n",
    "    start = 0\n",
    "    end = len(arr) - 1\n",
    "    while(start <= end):\n",
    "        if start != end :\n",
    "            print(arr[end],end=\" \")\n",
    "            print(arr[start],end=\" \")\n",
    "            start+=1\n",
    "            end-=1\n",
    "        else:\n",
    "            print(arr[start],end=\" \")\n",
    "            break # this break is necessary otherwise infinite loop will hang the machine\n",
    "          \n",
    "    \n",
    "\n",
    "arr = [7, 1, 2, 3, 4, 5, 6]\n",
    "arrayprinting(arr)"
   ]
  },
  {
   "cell_type": "code",
   "execution_count": 1,
   "id": "61a0011c-5ce5-47e7-ad12-3ee1631781bb",
   "metadata": {},
   "outputs": [
    {
     "name": "stdout",
     "output_type": "stream",
     "text": [
      "8 1 6 2 5 3 4 "
     ]
    }
   ],
   "source": [
    "# 1:21:40\n",
    "\n",
    "# Vishwa's code\n",
    "\n",
    "def bubbleSort(arr):\n",
    "    for i in range(len(arr)-1,0,-1):\n",
    "        for j in range(i):\n",
    "            if arr[j]>arr[j+1]:\n",
    "                arr[j],arr[j+1]=arr[j+1],arr[j]\n",
    "\n",
    "def printInOrder(arr):\n",
    "  bubbleSort(arr)\n",
    "  left=0\n",
    "  right=len(arr)-1\n",
    "  while left<=right:\n",
    "    if left == right :\n",
    "      print(arr[left], end=\" \")\n",
    "    else :\n",
    "      print(arr[right], end=\" \")\n",
    "      print(arr[left], end=\" \")\n",
    "    left+=1\n",
    "    right-=1\n",
    "\n",
    "printInOrder([3,5,1,2,8,6,4])\n",
    "\n",
    "# Time complexity of bubble block is O(n^2) and that of\n",
    "# the printinorder block is O(n) . So overall the highest order complexity is\n",
    "# taken i.e. O(n^2) ."
   ]
  },
  {
   "cell_type": "code",
   "execution_count": 9,
   "id": "890d60c7-9339-4b75-9242-e438851cd33f",
   "metadata": {},
   "outputs": [
    {
     "name": "stdout",
     "output_type": "stream",
     "text": [
      "[1, 2, 5, 10, 23, 49, 90]\n",
      "[1, 5, 2, 23, 10, 90, 49]\n"
     ]
    }
   ],
   "source": [
    "'''\n",
    "Problem 3 : Sort an array in wave form Given an unsorted array of integers, sort the array into a wave like array. An array ‘arr[0..n-1]’ is sorted in wave form \n",
    "if arr[0] >= arr[1] <= arr[2] >= arr[3] <= arr[4] >= ….. \n",
    "Examples: Input: arr[] = {10, 5, 6, 3, 2, 20, 100, 80} Output: arr[] = {10, 5, 6, 2, 20, 3, 100, 80} OR {20, 5, 10, 2, 80, 6, 100, 3} \n",
    "OR any other array that is in wave form\n",
    "\n",
    "Logic : We can do it by the logic of the previous problem .\n",
    "Another logic : We can do it by selecting either odd index values or even index\n",
    "values and swapping them with the next index value(for odd) or swapping them\n",
    "with the previous index value(for even).\n",
    "\n",
    "Let us try the 2nd logic here. \n",
    "\n",
    "We have to sort first O(n^2) complexity and then do the logic as we said of\n",
    "O(n) complexity . So overall again O(n^2) complexity .\n",
    "\n",
    "'''\n",
    "\n",
    "\n",
    "def sort(arr):\n",
    "    for i in range(len(arr)):\n",
    "        min = i\n",
    "        for j in range(i+1,len(arr)):\n",
    "            if arr[j] < arr[min]:\n",
    "                min = j\n",
    "        arr[i] , arr[min] = arr[min] , arr[i]\n",
    "\n",
    "def waveform(arr):\n",
    "    sort(arr)\n",
    "    print(arr)\n",
    "    for i in range(len(arr)):\n",
    "        if i%2 == 0 and i!=0 :\n",
    "            arr[i],arr[i-1] = arr[i-1] , arr[i]\n",
    "    return arr\n",
    "\n",
    "arr = [10,90,49,2,1,5,23]        \n",
    "print(waveform(arr))"
   ]
  },
  {
   "cell_type": "code",
   "execution_count": 18,
   "id": "6fee3c6d-52cc-43aa-8699-22d5ba52c76e",
   "metadata": {},
   "outputs": [
    {
     "name": "stdout",
     "output_type": "stream",
     "text": [
      "[10, 49, 2, 3, 1, 90, 5]\n"
     ]
    }
   ],
   "source": [
    "# But this is not a good approach for FAANG companies since high\n",
    "# complexity. So let's use some other logic . \n",
    "\n",
    "# Binary search cant be used . For any binary search application , question\n",
    "# will have sorted array input or some hint like the array was previously in a \n",
    "# sorted state .\n",
    "\n",
    "# Logic : Check whether even number index elements are lesser than both the elements on\n",
    "# its left and right . If not replace it with the previous element. Then check again\n",
    "# whether after replacing its lesser than 'both' elements on its left and right , it might\n",
    "# happen that its not lesser than the element on its right after swapping. In that case\n",
    "# we have to swap that index value element with its next element.\n",
    "# For 1st and last index elements there is no one element to its left and right to\n",
    "# compare with , hence in their cases , we have to compare them with elements \n",
    "# to its immediate right and left respectively and swap if needed .\n",
    "# 0 is considered an even number here.\n",
    "\n",
    "# My code\n",
    "\n",
    "def wave_faang(arr):  # odd length cater in last element comparison , not for even\n",
    "    l = len(arr)\n",
    "    if arr[0] > arr[1] :\n",
    "        arr[0] , arr[1] = arr[1] , arr[0]\n",
    "        \n",
    "    if l%2 == 0 :\n",
    "        start = 2\n",
    "        end = len(arr)-1\n",
    "        \n",
    "        while(start < end):\n",
    "            if arr[start] < arr[start-1] and arr[start] < arr[start+1] :\n",
    "                pass\n",
    "            else :\n",
    "                arr[start] , arr[start-1] = arr[start-1] , arr[start]\n",
    "            \n",
    "            if arr[start] < arr[start+1] :\n",
    "                pass\n",
    "            else :\n",
    "                arr[start] , arr[start+1] = arr[start+1] , arr[start]\n",
    "            \n",
    "            start += 2\n",
    "    \n",
    "    if l%2 == 1 :\n",
    "        start = 2\n",
    "        end = len(arr)-1\n",
    "        \n",
    "        while(start < end):\n",
    "            if arr[start] < arr[start-1] and arr[start] < arr[start+1] :\n",
    "                pass\n",
    "            else :\n",
    "                arr[start] , arr[start-1] = arr[start-1] , arr[start]\n",
    "            \n",
    "            if arr[start] < arr[start+1] :\n",
    "                pass\n",
    "            else :\n",
    "                arr[start] , arr[start+1] = arr[start+1] , arr[start]\n",
    "            \n",
    "            start += 2\n",
    "            \n",
    "        if arr[l-1] > arr[l-2] :\n",
    "            arr[l-1] , arr[l-2] = arr[l-2] , arr[l-1]\n",
    "    \n",
    "arr = [10,90,49,2,3,1,5]     \n",
    "wave_faang(arr)\n",
    "print(arr)"
   ]
  },
  {
   "cell_type": "code",
   "execution_count": 17,
   "id": "32552f2c-2cad-46c3-9d8a-fe1714694e1f",
   "metadata": {},
   "outputs": [
    {
     "name": "stdout",
     "output_type": "stream",
     "text": [
      "[10, 90, 2, 49, 1, 3, 5]\n"
     ]
    }
   ],
   "source": [
    "# Vishwa's Code\n",
    "\n",
    "def sortInWave(arr):\n",
    "    \n",
    "    for i in range(0, len(arr)-1, 2):\n",
    "        \n",
    "        # Comparing with left element\n",
    "        if(i>0 and arr[i]>arr[i-1]):\n",
    "            arr[i] , arr[i-1] = arr[i-1] , arr[i]\n",
    "            \n",
    "        # comparing with right element\n",
    "        if(i<len(arr)-1 and arr[i] > arr[i+1]):\n",
    "            arr[i] , arr[i+1] = arr[i+1] , arr[i]\n",
    " \n",
    "arr = [10,90,49,2,3,1,5]\n",
    "sortInWave(arr)\n",
    "print(arr)\n",
    "\n",
    "# Take even length array arr = [10,90,49,2,3,1,5,23] , it works ."
   ]
  },
  {
   "cell_type": "code",
   "execution_count": null,
   "id": "7a76d7f9-97c8-4e2b-b5b8-e3b2aac9ac7d",
   "metadata": {},
   "outputs": [],
   "source": [
    "# But above Vishwa's code shows wrong results for\n",
    "# odd length of array as is visible from above output . But runs well\n",
    "# for even length."
   ]
  },
  {
   "cell_type": "code",
   "execution_count": null,
   "id": "c6423b45-eaca-4cd0-98a1-050b6eedb0ae",
   "metadata": {},
   "outputs": [],
   "source": [
    "# 2:37:32"
   ]
  },
  {
   "cell_type": "code",
   "execution_count": 8,
   "id": "c7ddd593-f370-4ab8-8b6d-37a79f214ba2",
   "metadata": {},
   "outputs": [
    {
     "data": {
      "text/plain": [
       "[10, 90, 2, 49, 1, 5, 3, 23]"
      ]
     },
     "execution_count": 8,
     "metadata": {},
     "output_type": "execute_result"
    }
   ],
   "source": [
    "# Another Solution , Logic , just checking consecutive numbers for comparison with opposite signs of greater and lesser , so the trend alternates .\n",
    "def waving(arr):\n",
    "    for i in range(len(arr)-1):\n",
    "        if i%2 == 0 and arr[i] > arr[i+1] or i%2 == 1 and arr[i] < arr[i+1] :\n",
    "            arr[i] , arr[i+1] = arr[i+1] , arr[i]\n",
    "    return arr\n",
    "\n",
    "arr = [10,90,49,2,3,1,5,23]\n",
    "waving(arr)"
   ]
  },
  {
   "cell_type": "code",
   "execution_count": null,
   "id": "75935bf4-6368-40d6-92dc-f7d6d96e10d1",
   "metadata": {},
   "outputs": [],
   "source": [
    "'''\n",
    "Problem 4\n",
    "Merge an array of size n into another array of size m+n in sorted order.\n",
    "Size of the arr1 is m+n and it's first m elements are having numbers . \n",
    "arr1 is having those m elements in sorted order.\n",
    "arr2 is having n elements in sorted order too .\n",
    "\n",
    "\n",
    "\n",
    "'''\n",
    "\n",
    "# We can do it by taking an extra space and then using insertion sort to\n",
    "# add data from 2 arrays . But that would require an extra space and will\n",
    "# have time complexity of O(n^2) for insertion sort which is not good.\n",
    "\n",
    "# We have to do in a way so that no extra space is needed and\n",
    "# time complexity stays linear ."
   ]
  },
  {
   "cell_type": "code",
   "execution_count": 18,
   "id": "cc8635f1-0a90-4997-a217-46123daae9af",
   "metadata": {},
   "outputs": [
    {
     "name": "stdout",
     "output_type": "stream",
     "text": [
      "[2, 3, 4, 6, 9]\n"
     ]
    }
   ],
   "source": [
    "def merger(arr1,m,arr2,n):\n",
    "    # Size of the arr1 is m+n and its first m elements are having numbers\n",
    "    \n",
    "    i = m - 1\n",
    "    j = n - 1\n",
    "    k = m + n - 1\n",
    "    \n",
    "    while(i>=0 and j>=0):\n",
    "        if arr1[i] > arr2[j] :\n",
    "            arr1[k] = arr1[i]\n",
    "            i-= 1\n",
    "        else:\n",
    "            arr1[k] = arr2[j]\n",
    "            j-= 1\n",
    "        k-= 1\n",
    "    \n",
    "    while(i>=0):\n",
    "        arr1[k] = arr1[i]\n",
    "        i-= 1\n",
    "        k-= 1\n",
    "        \n",
    "    while(j>=0):\n",
    "        arr1[k] = arr2[j]\n",
    "        j-= 1\n",
    "        k-= 1\n",
    "        \n",
    "#arr1 = [3,4,6,0,0]\n",
    "#arr2 = [1,5]\n",
    "arr11 = [3,6,9,-1,-1]\n",
    "arr22 = [2,4]\n",
    "#merger(arr1,3,arr2,2)\n",
    "merger(arr11,3,arr22,2)\n",
    "#print(arr1)\n",
    "print(arr11)\n",
    "# here 0 , 0 and -1 , -1 are dummy elements taken to show the n empty spaces."
   ]
  },
  {
   "cell_type": "code",
   "execution_count": 12,
   "id": "bdcaadf4-85d0-48f6-a8c4-84c3915c63d5",
   "metadata": {},
   "outputs": [
    {
     "name": "stdout",
     "output_type": "stream",
     "text": [
      "[0, 0, 1, 0, 1, 1, 0, 1, 0, 1]\n"
     ]
    }
   ],
   "source": [
    "# 3:22:20\n",
    "\n",
    "def zando(arr):\n",
    "    start = 0\n",
    "    end = len(arr)-1\n",
    "    for i in range(len(arr)-2):\n",
    "         \n",
    "        if arr[start] != arr[i+1] :\n",
    "            \n",
    "            arr[i+1] , arr[i+2] = arr[i+2] , arr[i+1]\n",
    "            if arr[start] == arr[i+1] :\n",
    "                start+= 1\n",
    "    return arr\n",
    "\n",
    "    '''    \n",
    "    st_ind = 0\n",
    "    end_ind = len(arr)-1\n",
    "    while(st_ind <= end_ind):  \n",
    "        arr[st_ind] , arr[end_ind] = arr[end_ind] , arr[st_ind]\n",
    "        st_ind+= 1\n",
    "        end_ind-= 1\n",
    "    return arr\n",
    "    '''\n",
    "#arr2=[0, 1, 0, 1, 0, 0, 1, 1, 1, 0]\n",
    "arr = [0, 1, 0, 1, 0, 0, 1, 1, 1, 0]\n",
    "print(zando(arr))\n"
   ]
  },
  {
   "cell_type": "code",
   "execution_count": 3,
   "id": "f1f65ea1-0ec8-45e6-b930-72476a2bdb3f",
   "metadata": {},
   "outputs": [],
   "source": [
    "# 3:23:10\n"
   ]
  },
  {
   "cell_type": "code",
   "execution_count": null,
   "id": "3cef8ed9-70ad-4437-b856-a4a821589ae7",
   "metadata": {},
   "outputs": [],
   "source": []
  }
 ],
 "metadata": {
  "kernelspec": {
   "display_name": "Python 3 (ipykernel)",
   "language": "python",
   "name": "python3"
  },
  "language_info": {
   "codemirror_mode": {
    "name": "ipython",
    "version": 3
   },
   "file_extension": ".py",
   "mimetype": "text/x-python",
   "name": "python",
   "nbconvert_exporter": "python",
   "pygments_lexer": "ipython3",
   "version": "3.10.8"
  }
 },
 "nbformat": 4,
 "nbformat_minor": 5
}
