{
 "cells": [
  {
   "cell_type": "code",
   "execution_count": null,
   "id": "90611c21-b9cd-4c24-889d-c72a2e778902",
   "metadata": {},
   "outputs": [],
   "source": [
    "# An array is a contiguous collection of data (one after another consecutively).\n",
    "\n",
    "# Linked List - A collection of list nodes containing data and reference to the \n",
    "# next node\n",
    "\n",
    "\n",
    "# Linked List Advantages (All these are disadvantages of array)\n",
    "# fast insertion/deletion (for array we need to undergo a O(n) process for it)\n",
    "# Dynamic size (In array we declare array size first, we might predict a size which\n",
    "# might be smaller or larger than the actual size required for that code , if we take\n",
    "# small size it will lead to data loss , for larger size it will lead to space\n",
    "# wastage) .\n",
    "# Works in fragmented memory space (which is not a linear memory space like array, its\n",
    "# a space where some positions are filled and some are empty and they are scattered,\n",
    "# those positions are not one after the other like in arrays.\n",
    "\n",
    "# Disadvantages of linked list\n",
    "# Extra memory space required since address of next node has to be stored.\n",
    "# No index based retrival of data like array did . For array to find an element\n",
    "# we undergo a O(1) process but for linked list its an O(n) process.\n",
    "\n",
    "# Array advantages\n",
    "# Fast index based data\n",
    "\n",
    "\n"
   ]
  },
  {
   "cell_type": "code",
   "execution_count": 2,
   "id": "8f212c98-f195-4e6f-a93b-ae359b86153e",
   "metadata": {},
   "outputs": [],
   "source": [
    "# Define the ListNode\n",
    "\n",
    "# we want a node object , so first we need a node class.\n",
    "class Node :\n",
    "    # defining constructor\n",
    "    def __init__(self,data=None,next= None): # Node should have a data and next reference\n",
    "        # default value is none\n",
    "        self.data = data\n",
    "        self.next = next\n",
    "        # self refers to the current object that got created\n",
    "        \n",
    "        # Now we have to provide the methods for setting the data and getting the data\n",
    "        \n",
    "        # Method to set the data value\n",
    "    def setData(self,data):\n",
    "        self.data = data\n",
    "            \n",
    "        # Method to get the data value\n",
    "    def getData(self):\n",
    "        return self.data\n",
    "            \n",
    "        # Method to set the next\n",
    "    def setNext(self,next):\n",
    "        self.next = next\n",
    "            \n",
    "        # Method to get the next\n",
    "    def getNext(self):\n",
    "        return self.next\n",
    "        \n",
    "        "
   ]
  },
  {
   "cell_type": "code",
   "execution_count": 2,
   "id": "c333d0b3-3384-4b88-a905-fde6437d508a",
   "metadata": {},
   "outputs": [
    {
     "name": "stdout",
     "output_type": "stream",
     "text": [
      "1->2->3->4->"
     ]
    }
   ],
   "source": [
    "# Now let's Create a linked list --> collection of list nodes\n",
    "\n",
    "head = Node(1)\n",
    "node2 = Node(2)\n",
    "node3 = Node(3)\n",
    "node4 = Node(4)\n",
    "\n",
    "#Creating the linkage\n",
    "\n",
    "head.setNext(node2)\n",
    "node2.setNext(node3)\n",
    "node3.setNext(node4)\n",
    "\n",
    "def traverse(head):\n",
    "    temp = head\n",
    "    while(temp):\n",
    "        print(temp.getData(),end=\"->\")\n",
    "        temp = temp.getNext()\n",
    " \n",
    "traverse(head)\n"
   ]
  },
  {
   "cell_type": "code",
   "execution_count": 12,
   "id": "cd229001-57d6-49f4-af29-bdf1ddc14e5a",
   "metadata": {},
   "outputs": [
    {
     "name": "stdout",
     "output_type": "stream",
     "text": [
      "1->2->3->4->"
     ]
    }
   ],
   "source": [
    "def traverseRec(head):\n",
    "    temp=head\n",
    "    if temp == None :\n",
    "        return\n",
    "    print(temp.getData(),end=\"->\")\n",
    "    traverseRec(temp.getNext())\n",
    "\n",
    "traverseRec(head)"
   ]
  },
  {
   "cell_type": "code",
   "execution_count": 13,
   "id": "0c8a8a0b-62fa-43d6-863d-a71c2ecddcd9",
   "metadata": {},
   "outputs": [
    {
     "name": "stdout",
     "output_type": "stream",
     "text": [
      "1->2->3->4->"
     ]
    }
   ],
   "source": [
    "# OR\n",
    "def traverse_recursive(node): # node is just a parameter \n",
    "    if not node:\n",
    "        return\n",
    "    print(node.getData(), end=\"->\")\n",
    "    traverse_recursive(node.getNext())\n",
    "\n",
    "traverse_recursive(head) # we are passing value of head to node .\n"
   ]
  },
  {
   "cell_type": "code",
   "execution_count": 4,
   "id": "b7f0e6b6-0018-40fb-b4a2-19e284018efa",
   "metadata": {},
   "outputs": [
    {
     "name": "stdout",
     "output_type": "stream",
     "text": [
      "4\n"
     ]
    }
   ],
   "source": [
    "#2:06:26\n",
    "\n",
    "# Q. Given Linked List head , we have to tell the no of nodes\n",
    "#    or the length of the linked list .\n",
    "\n",
    "def length(head):\n",
    "    temp = head\n",
    "    len = 0\n",
    "    while(temp):\n",
    "        len+=1\n",
    "        temp = temp.getNext()\n",
    "   \n",
    "    return len\n",
    "\n",
    "print(length(head))"
   ]
  },
  {
   "cell_type": "code",
   "execution_count": 15,
   "id": "7f477f8e-2fa2-44e4-a7de-98c7477dce03",
   "metadata": {},
   "outputs": [
    {
     "data": {
      "text/plain": [
       "4"
      ]
     },
     "execution_count": 15,
     "metadata": {},
     "output_type": "execute_result"
    }
   ],
   "source": [
    "def length_rec(head,len):\n",
    "    \n",
    "    if head == None :\n",
    "        return len\n",
    "    len+=1\n",
    "    return length_rec(head.getNext(),len)\n",
    "    \n",
    "length_rec(head,0)"
   ]
  },
  {
   "cell_type": "code",
   "execution_count": 16,
   "id": "cf8a8779-6479-4874-a488-a90d1c366afc",
   "metadata": {},
   "outputs": [
    {
     "data": {
      "text/plain": [
       "4"
      ]
     },
     "execution_count": 16,
     "metadata": {},
     "output_type": "execute_result"
    }
   ],
   "source": [
    "# Or Vishwa's Code\n",
    "\n",
    "def len_rec(head):\n",
    "    if not head :\n",
    "        return 0\n",
    "    return 1 + len_rec(head.getNext())\n",
    "\n",
    "len_rec(head)"
   ]
  },
  {
   "cell_type": "code",
   "execution_count": 5,
   "id": "213460d2-e437-42d0-a179-12843d9148dc",
   "metadata": {},
   "outputs": [
    {
     "name": "stdout",
     "output_type": "stream",
     "text": [
      "1->2->3->4->\n",
      "1->2->24->3->4->"
     ]
    }
   ],
   "source": [
    "# Insertion at nth position\n",
    "\n",
    "def insertNode(head,data,k):  # We will insert data at the kth position from head.\n",
    "    # Let's check if the k is valid\n",
    "    if (k > length(head) or k < 0):  # this is not an array index that negative values will be valid . \n",
    "        print(\"Argument k passed is not valid\")\n",
    "        return head\n",
    "    \n",
    "    # Create new node for data \n",
    "    newNode = Node(data) #created the new node object\n",
    "    \n",
    "    if (k==0):\n",
    "        # If We need to insert at the beginning\n",
    "        # We need to update the head\n",
    "        newNode.setNext(head)\n",
    "        head = newNode\n",
    "        \n",
    "    else:\n",
    "        # When k not in the beginning\n",
    "        # We need to jump to the previous node of the position\n",
    "        prev = head\n",
    "        i = 0\n",
    "        while(i<k-1):\n",
    "            prev = prev.getNext()\n",
    "            i+=1\n",
    "            \n",
    "        # prev will be one position left of kth position\n",
    "        newNode.setNext(prev.getNext())\n",
    "        prev.setNext(newNode)\n",
    "        \n",
    "    return head\n",
    "    \n",
    "head = Node(1)\n",
    "node2 = Node(2)\n",
    "node3 = Node(3)\n",
    "node4 = Node(4)\n",
    "\n",
    "#Creating the linkage\n",
    "\n",
    "head.setNext(node2)\n",
    "node2.setNext(node3)\n",
    "node3.setNext(node4)\n",
    "\n",
    "traverse(head)\n",
    "print() # printing a line gap in output\n",
    "\n",
    "newhead = insertNode(head,24,2)\n",
    "traverse(newhead)"
   ]
  },
  {
   "cell_type": "code",
   "execution_count": null,
   "id": "84e10448-1657-40c1-9690-a1a91c4843ea",
   "metadata": {},
   "outputs": [],
   "source": [
    "# Another use case\n",
    "\n",
    "#def deleteNode(head,k):\n",
    "    # Implement this function\n",
    "    # Do it yourself\n",
    "    "
   ]
  },
  {
   "cell_type": "code",
   "execution_count": 44,
   "id": "225257e4-92c8-4745-ad8f-0300a3f44c99",
   "metadata": {},
   "outputs": [
    {
     "name": "stdout",
     "output_type": "stream",
     "text": [
      "1->2->3->4->\n",
      "2->3->4->"
     ]
    }
   ],
   "source": [
    "# My Code \n",
    "\n",
    "def deleteNode(head,k):  \n",
    "    # Let's check if the k is valid\n",
    "    if (k >= length(head) or k < 0):  # this is not an array index that negative values will be valid . \n",
    "        print(\"Argument k passed is not valid\")\n",
    "        return head\n",
    "    \n",
    "    if k == 0 :\n",
    "        head = head.getNext()\n",
    "        \n",
    "    else:\n",
    "        \n",
    "        \n",
    "        prev = head\n",
    "        i = 0\n",
    "        while(i<k-1):\n",
    "            prev = prev.getNext()\n",
    "            i+=1\n",
    "        prev1 = prev.getNext()   \n",
    "      \n",
    "        prev.setNext(prev1.getNext())\n",
    "        \n",
    "        \n",
    "    return head\n",
    "    \n",
    "head = Node(1)\n",
    "node2 = Node(2)\n",
    "node3 = Node(3)\n",
    "node4 = Node(4)\n",
    "\n",
    "#Creating the linkage\n",
    "\n",
    "head.setNext(node2)\n",
    "node2.setNext(node3)\n",
    "node3.setNext(node4)\n",
    "\n",
    "traverse(head)\n",
    "print() # printing a line gap in output\n",
    "\n",
    "newhead=deleteNode(head,0)\n",
    "traverse(newhead)"
   ]
  },
  {
   "cell_type": "code",
   "execution_count": null,
   "id": "339d9766-32f0-4fe5-b225-a330b5ed3379",
   "metadata": {},
   "outputs": [],
   "source": [
    "# Vishwa's code for the above is same as well ."
   ]
  },
  {
   "cell_type": "code",
   "execution_count": 3,
   "id": "d3641c81-3fd0-4368-af23-c6cd5117e929",
   "metadata": {},
   "outputs": [
    {
     "name": "stdout",
     "output_type": "stream",
     "text": [
      "1->2->3->4->5->6->\n",
      "4\n"
     ]
    }
   ],
   "source": [
    "# Find the middle element in the linkedlist.\n",
    "\n",
    "'''\n",
    "the middle in case of even length will be considered the approximated next\n",
    "i.e. 6/2 = 3 but we will take the next element. 1 2 3 4 5 6 , mid = 4\n",
    "for odd length , the one in the middle will be considered. 1 2 3 4 5 , mid = 3\n",
    "'''\n",
    "\n",
    "# Code\n",
    "\n",
    "def findMidPoint(head):\n",
    "    slow = head\n",
    "    fast = head\n",
    "    \n",
    "    while(fast !=None and fast.getNext()!=None):\n",
    "        slow = slow.getNext()\n",
    "        fast = fast.getNext().getNext()\n",
    "        \n",
    "    return slow.getData()\n",
    "\n",
    "head = Node(1)\n",
    "node2 = Node(2)\n",
    "node3 = Node(3)\n",
    "node4 = Node(4)\n",
    "node5 = Node(5)\n",
    "node6 = Node(6)\n",
    "\n",
    "#Creating the linkage\n",
    "\n",
    "head.setNext(node2)\n",
    "node2.setNext(node3)\n",
    "node3.setNext(node4)\n",
    "node4.setNext(node5)\n",
    "node5.setNext(node6)\n",
    "\n",
    "traverse(head)\n",
    "print()\n",
    "print(findMidPoint(head))\n",
    "\n",
    "\n",
    "\n"
   ]
  },
  {
   "cell_type": "code",
   "execution_count": 14,
   "id": "4fd64bed-f0ff-4188-bc0d-904544d13d4f",
   "metadata": {},
   "outputs": [
    {
     "name": "stdout",
     "output_type": "stream",
     "text": [
      "True\n"
     ]
    }
   ],
   "source": [
    "# Given head of a linked list , check if it has cycle(or loop) . Also\n",
    "# called as cycle detection algorithm.\n",
    "\n",
    "# logic : We take 2 pointers and run one at half the speed of the other . If they meet , its a loop otherwise no .\n",
    "\n",
    "# Let's detect the cycle in the loop\n",
    "\n",
    "# this code is for non duplicate data set\n",
    "\n",
    "def isCyclePresent(head):\n",
    "    slow = head\n",
    "    fast = head\n",
    "    \n",
    "    while(fast and fast.getNext()):\n",
    "        slow = slow.getNext()\n",
    "        fast = fast.getNext().getNext()\n",
    "        \n",
    "        if fast and slow.getData() == fast.getData(): # It checks whether fast exists or not and \n",
    "                                                      # also checks whether data of slow and fast is same .\n",
    "            \n",
    "            return True #cycle exists\n",
    "        \n",
    "    return False #cycle doesn't exist\n",
    "\n",
    "# We are checking whether fast exists or not bcz if we just gave the if condition for checking slow data = fast data then it could have\n",
    "# shown an error bcz in case of single linked list i.e. not cycle , the fast data can be None and then fast.getData() would give an exception.\n",
    "# It will have no data and still if we call getData then its going to show an error.\n",
    "\n",
    "head = Node(1)\n",
    "node2 = Node(2)\n",
    "node3 = Node(3)\n",
    "node4 = Node(4)\n",
    "node5 = Node(5)\n",
    "node6 = Node(6)\n",
    "\n",
    "#Creating the linkage\n",
    "\n",
    "head.setNext(node2)\n",
    "node2.setNext(node3)\n",
    "node3.setNext(node4)\n",
    "node4.setNext(node5)\n",
    "node5.setNext(node6)\n",
    "node6.setNext(node3)\n",
    "\n",
    "print(isCyclePresent(head))\n",
    "\n"
   ]
  },
  {
   "cell_type": "code",
   "execution_count": null,
   "id": "3b8bc61a-d132-484a-b35b-9bd7c911e98d",
   "metadata": {},
   "outputs": [],
   "source": [
    "# the DSA here is enough for Data Scientist role , but not for\n",
    "# backend role ."
   ]
  },
  {
   "cell_type": "code",
   "execution_count": null,
   "id": "f410452e-9e6e-43e5-87f9-a0b570648052",
   "metadata": {},
   "outputs": [],
   "source": [
    "'''\n",
    "# Do the above problem for duplicate elements.\n",
    "# Logic : Same . But compare the objects now bcz now address of\n",
    "# node will have to be compared and not data within the objects.\n",
    "'''"
   ]
  },
  {
   "cell_type": "code",
   "execution_count": null,
   "id": "6545c3f8-9dd8-41ee-ba84-e9ae32cd6cd5",
   "metadata": {},
   "outputs": [],
   "source": [
    "# Cycle detection has lots of applications."
   ]
  },
  {
   "cell_type": "code",
   "execution_count": 4,
   "id": "73437de3-6d5e-426f-aba2-91edbadaa76a",
   "metadata": {},
   "outputs": [
    {
     "name": "stdout",
     "output_type": "stream",
     "text": [
      "3\n"
     ]
    }
   ],
   "source": [
    "# Now let's write a code to detect the starting point of the\n",
    "# cycle/loop .\n",
    "\n",
    "# Logic : Take 2 pointers , one at the start of the list and the other at their meeting point. \n",
    "# The node where they meet is the starting point bcz mathematically the distance travelled is same .\n",
    "# Refer to logicbehindcyclestartingpoint.png in DSA sir folder for reference.\n",
    "\n",
    "def startingPointOfCycle(head):\n",
    "    slow = head\n",
    "    fast = head\n",
    "    # first check whether the cycle exists or not\n",
    "    isCyclePresent = False\n",
    "    while(fast and fast.getNext()):\n",
    "        slow = slow.getNext()\n",
    "        fast = fast.getNext().getNext()\n",
    "        \n",
    "        if (fast and slow.getData() == fast.getData()):\n",
    "            isCyclePresent = True\n",
    "            break\n",
    "    if not isCyclePresent:\n",
    "        return None\n",
    "    \n",
    "    temp = head\n",
    "    while(temp.getData() != slow.getData()):\n",
    "        temp = temp.getNext()\n",
    "        slow = slow.getNext()\n",
    "        \n",
    "    return temp.getData()\n",
    "\n",
    "head = Node(1)\n",
    "node2 = Node(2)\n",
    "node3 = Node(3)\n",
    "node4 = Node(4)\n",
    "node5 = Node(5)\n",
    "node6 = Node(6)\n",
    "\n",
    "#Creating the linkage\n",
    "\n",
    "head.setNext(node2)\n",
    "node2.setNext(node3)\n",
    "node3.setNext(node4)\n",
    "node4.setNext(node5)\n",
    "node5.setNext(node6)\n",
    "node6.setNext(node3)\n",
    "print(startingPointOfCycle(head))"
   ]
  },
  {
   "cell_type": "code",
   "execution_count": null,
   "id": "6d7c1673-c6f6-4a3b-a8dd-239bed9cd50d",
   "metadata": {},
   "outputs": [],
   "source": [
    "'''\n",
    "#Q Make the above code for finding loop. work for duplicate nodes.\n",
    "\n",
    "#Q Reverse a linked list\n",
    "\n",
    "def reverse(head):\n",
    "    # 1->2->3->4->5 , 5->4->3->2->1\n"
   ]
  },
  {
   "cell_type": "code",
   "execution_count": null,
   "id": "dd25e359-5f97-4d68-82ca-5dc92f8fedcc",
   "metadata": {},
   "outputs": [],
   "source": []
  }
 ],
 "metadata": {
  "kernelspec": {
   "display_name": "Python 3 (ipykernel)",
   "language": "python",
   "name": "python3"
  },
  "language_info": {
   "codemirror_mode": {
    "name": "ipython",
    "version": 3
   },
   "file_extension": ".py",
   "mimetype": "text/x-python",
   "name": "python",
   "nbconvert_exporter": "python",
   "pygments_lexer": "ipython3",
   "version": "3.10.8"
  }
 },
 "nbformat": 4,
 "nbformat_minor": 5
}
