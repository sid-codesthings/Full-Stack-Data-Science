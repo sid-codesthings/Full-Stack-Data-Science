{
 "cells": [
  {
   "cell_type": "code",
   "execution_count": null,
   "metadata": {
    "id": "2JqGvyW5jjKE"
   },
   "outputs": [],
   "source": [
    "class Queue :\n",
    "  def __init__(self, capacity):\n",
    "    self.arr = [None]*capacity\n",
    "    self.capacity = capacity\n",
    "    self.front = -1\n",
    "    self.rear = -1 #in the begining both front and rear should be -1\n",
    "    self.size =0\n",
    "\n",
    "  def isEmpty(self):\n",
    "    return self.front == -1\n",
    "\n",
    "  def isFull(self):\n",
    "    return (self.front +1)%self.capacity == self.rear\n",
    "\n",
    "  def enQueue(self, data):\n",
    "    if self.isFull() :\n",
    "      print(\"Queue overflow\")\n",
    "      return\n",
    "    #Move the front to the right one position\n",
    "    self.front = (self.front + 1) % self.capacity # ensure index is correct\n",
    "    self.arr[self.front]=data\n",
    "\n",
    "    if self.rear == -1:  #when the first element is inserted\n",
    "      self.rear =0\n",
    "    self.size +=1\n",
    "\n",
    "  def deQueue(self):\n",
    "    if self.isEmpty():\n",
    "      print(\"Queue underflow\")\n",
    "      return\n",
    "    data = self.arr[self.rear]\n",
    "    #Check if this was the only element\n",
    "    if self.rear == self.front:\n",
    "      self.rear = -1\n",
    "      self.front = -1\n",
    "      #Because it was the only element, and after removal it's empty\n",
    "    else :\n",
    "      self.rear = (self.rear+1)%self.capacity #ensure we are in correct index range\n",
    "    self.size -=1\n",
    "    return data\n",
    "\n",
    "  def length(self):\n",
    "    return self.size\n",
    "\n",
    "  def traverse(self):\n",
    "    for i in range(self.size):\n",
    "      print(self.arr[(self.rear+i)%self.capacity], end=\" , \")\n",
    "\n",
    "\n"
   ]
  },
  {
   "cell_type": "code",
   "execution_count": null,
   "metadata": {
    "id": "PI13MOIfkv4Z"
   },
   "outputs": [],
   "source": [
    "q = Queue(5)"
   ]
  },
  {
   "cell_type": "code",
   "execution_count": null,
   "metadata": {
    "colab": {
     "base_uri": "https://localhost:8080/"
    },
    "id": "nvQRiCr0tByw",
    "outputId": "0ddd66a7-f392-4302-c50b-c1be6387ea3f"
   },
   "outputs": [
    {
     "name": "stdout",
     "output_type": "stream",
     "text": [
      "True\n"
     ]
    }
   ],
   "source": [
    "print(q.isEmpty())"
   ]
  },
  {
   "cell_type": "code",
   "execution_count": null,
   "metadata": {
    "colab": {
     "base_uri": "https://localhost:8080/"
    },
    "id": "Vv7Bf3aWtHJX",
    "outputId": "6f3fe89b-6c02-412e-b4ea-f6a7996407cc"
   },
   "outputs": [
    {
     "name": "stdout",
     "output_type": "stream",
     "text": [
      "False\n"
     ]
    }
   ],
   "source": [
    "print(q.isFull())"
   ]
  },
  {
   "cell_type": "code",
   "execution_count": null,
   "metadata": {
    "id": "B87qS61KtKOJ"
   },
   "outputs": [],
   "source": [
    "q.enQueue(4)\n",
    "q.enQueue(5)\n",
    "q.enQueue(3)"
   ]
  },
  {
   "cell_type": "code",
   "execution_count": null,
   "metadata": {
    "colab": {
     "base_uri": "https://localhost:8080/"
    },
    "id": "l8GtsrPgtWrE",
    "outputId": "e869a197-aa56-4c7e-ffb6-1344b931206e"
   },
   "outputs": [
    {
     "name": "stdout",
     "output_type": "stream",
     "text": [
      "4 , 5 , 3 , "
     ]
    }
   ],
   "source": [
    "q.traverse()"
   ]
  },
  {
   "cell_type": "code",
   "execution_count": null,
   "metadata": {
    "colab": {
     "base_uri": "https://localhost:8080/"
    },
    "id": "a1HDrknGudlA",
    "outputId": "a56c2925-56d1-418f-c953-25040634a11a"
   },
   "outputs": [
    {
     "name": "stdout",
     "output_type": "stream",
     "text": [
      "3\n"
     ]
    }
   ],
   "source": [
    "print(q.deQueue())"
   ]
  },
  {
   "cell_type": "code",
   "execution_count": null,
   "metadata": {
    "id": "SmTCwiutxkz5"
   },
   "outputs": [],
   "source": [
    "class Node :\n",
    "\n",
    "  def __init__(self, data, next=None):\n",
    "    self.data = data\n",
    "    self.next = next\n",
    "\n",
    "  def getData(self):\n",
    "    return self.data\n",
    "\n",
    "  def setData(self, data):\n",
    "    self.data = data\n",
    "\n",
    "  def setNext(self, next):\n",
    "    self.next = next\n",
    "\n",
    "  def getNext(self):\n",
    "    return self.next"
   ]
  },
  {
   "cell_type": "code",
   "execution_count": null,
   "metadata": {
    "id": "78HGIzLwxnT8"
   },
   "outputs": [],
   "source": [
    "class QueueLL :\n",
    "  def __init__(self):\n",
    "    self.head = None\n",
    "    self.tail = None\n",
    "    self.size =0\n",
    "\n",
    "  def isEmpty(self):\n",
    "    return self.head == None # self.tail == None\n",
    "\n",
    "  def enQue(self, data):\n",
    "    node = Node(data)\n",
    "\n",
    "    if self.isEmpty():\n",
    "      self.head = node\n",
    "      self.tail = node\n",
    "    else :\n",
    "      self.tail.setNext(node)\n",
    "      self.tail = self.tail.getNext()\n",
    "    self.size +=1\n",
    "\n",
    "  def deQueue(self):\n",
    "    if self.isEmpty():\n",
    "      print(\"Queue underflow\")\n",
    "      return\n",
    "    data = self.head.getData()\n",
    "\n",
    "    #chek if it's the only element\n",
    "    if(self.head == self.tail):\n",
    "      self.head = None\n",
    "      self.tail= None #Becase after deQue, Queue will be empty\n",
    "    else:\n",
    "      self.head = self.head.getNext()\n",
    "    self.size -= 1\n",
    "    return data\n",
    "\n",
    "  def traverse(self):\n",
    "    temp = self.head\n",
    "    while(temp ):\n",
    "      print(temp.getData(), end=\"->\")\n",
    "      temp = temp.getNext()\n",
    "    print()\n",
    "\n",
    "\n",
    "\n",
    "\n"
   ]
  },
  {
   "cell_type": "markdown",
   "metadata": {
    "id": "_qOwsHgpzuVB"
   },
   "source": [
    "1. Revise Recursion\n",
    "\n",
    "2. Implement Stack using Queue\n",
    "\n",
    "2. Implement Queue using Stack"
   ]
  },
  {
   "cell_type": "code",
   "execution_count": null,
   "metadata": {
    "id": "B1qPqV68ztxz"
   },
   "outputs": [],
   "source": []
  }
 ],
 "metadata": {
  "colab": {
   "provenance": []
  },
  "kernelspec": {
   "display_name": "Python 3 (ipykernel)",
   "language": "python",
   "name": "python3"
  },
  "language_info": {
   "codemirror_mode": {
    "name": "ipython",
    "version": 3
   },
   "file_extension": ".py",
   "mimetype": "text/x-python",
   "name": "python",
   "nbconvert_exporter": "python",
   "pygments_lexer": "ipython3",
   "version": "3.11.3"
  }
 },
 "nbformat": 4,
 "nbformat_minor": 1
}
