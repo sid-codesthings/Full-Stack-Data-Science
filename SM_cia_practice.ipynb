{
 "cells": [
  {
   "cell_type": "code",
   "execution_count": 10,
   "id": "aecb90c5",
   "metadata": {},
   "outputs": [],
   "source": [
    "# Stack using Array\n",
    "\n",
    "class Stack:\n",
    "    def __init__(self,capacity):\n",
    "        self.top = -1\n",
    "        self.capacity = capacity\n",
    "        self.arr = [None]*capacity\n",
    "        \n",
    "    def isEmpty(self):\n",
    "        return self.top == -1\n",
    "    def isFull(self):\n",
    "        return self.top == self.capacity - 1\n",
    "    def push(self,data):\n",
    "        \n",
    "        if (self.isFull()):\n",
    "            print('Stack overflow')\n",
    "            return\n",
    "        self.top += 1\n",
    "        self.arr[self.top] = data\n",
    "    def pop(self):\n",
    "        \n",
    "        if (self.isEmpty()):\n",
    "            print('Stack Underflow')\n",
    "            return\n",
    "        data = self.arr[self.top]\n",
    "        self.top -= 1\n",
    "        return data\n",
    "        \n",
    "    def traverse(self):\n",
    "        for i in range(self.top + 1):\n",
    "            print(self.arr[i],end=\"->\")\n",
    "    \n",
    "    def peek(self):\n",
    "        \n",
    "        if (self.isEmpty()):\n",
    "            print('Stack Underflow')\n",
    "        \n",
    "        data = self.arr[self.top]\n",
    "        return data\n",
    "    \n",
    "    def size(self):\n",
    "        c = 0\n",
    "        for i in range(self.top + 1):\n",
    "            c += 1\n",
    "        return c"
   ]
  },
  {
   "cell_type": "code",
   "execution_count": 28,
   "id": "c00c87ac",
   "metadata": {},
   "outputs": [],
   "source": [
    "def deletemiddle(stack1):\n",
    "    sizeofstack = stack1.size()\n",
    "    mid = int(sizeofstack/2)\n",
    "    print(mid)\n",
    "    stack2 = Stack(mid)\n",
    "    count = 0\n",
    "    \n",
    "    while (count < mid):\n",
    "        stack2.push(stack1.pop())\n",
    "        count+=1\n",
    "    stack1.pop()\n",
    "    while (not stack2.isEmpty()):\n",
    "        stack1.push(stack2.pop())\n",
    "    "
   ]
  },
  {
   "cell_type": "code",
   "execution_count": 12,
   "id": "1192eddb",
   "metadata": {},
   "outputs": [],
   "source": [
    "stack1 = Stack(5)"
   ]
  },
  {
   "cell_type": "code",
   "execution_count": 13,
   "id": "96fea20a",
   "metadata": {},
   "outputs": [
    {
     "data": {
      "text/plain": [
       "True"
      ]
     },
     "execution_count": 13,
     "metadata": {},
     "output_type": "execute_result"
    }
   ],
   "source": [
    "stack1.isEmpty()"
   ]
  },
  {
   "cell_type": "code",
   "execution_count": 14,
   "id": "c6b2569f",
   "metadata": {},
   "outputs": [
    {
     "data": {
      "text/plain": [
       "False"
      ]
     },
     "execution_count": 14,
     "metadata": {},
     "output_type": "execute_result"
    }
   ],
   "source": [
    "stack1.isFull()"
   ]
  },
  {
   "cell_type": "code",
   "execution_count": 29,
   "id": "5eeb17ea",
   "metadata": {},
   "outputs": [
    {
     "name": "stdout",
     "output_type": "stream",
     "text": [
      "Stack overflow\n",
      "Stack overflow\n",
      "Stack overflow\n",
      "Stack overflow\n"
     ]
    }
   ],
   "source": [
    "stack1.push(5)\n",
    "stack1.push(10)\n",
    "stack1.push(11)\n",
    "stack1.push(15)\n",
    "stack1.push(20)"
   ]
  },
  {
   "cell_type": "code",
   "execution_count": 16,
   "id": "800eb24d",
   "metadata": {},
   "outputs": [
    {
     "name": "stdout",
     "output_type": "stream",
     "text": [
      "5->10->11->15->20->"
     ]
    }
   ],
   "source": [
    "stack1.traverse()"
   ]
  },
  {
   "cell_type": "code",
   "execution_count": 17,
   "id": "f43a9249",
   "metadata": {},
   "outputs": [
    {
     "name": "stdout",
     "output_type": "stream",
     "text": [
      "Stack overflow\n"
     ]
    }
   ],
   "source": [
    "stack1.push(6)"
   ]
  },
  {
   "cell_type": "code",
   "execution_count": 18,
   "id": "dd290912",
   "metadata": {},
   "outputs": [
    {
     "data": {
      "text/plain": [
       "20"
      ]
     },
     "execution_count": 18,
     "metadata": {},
     "output_type": "execute_result"
    }
   ],
   "source": [
    "stack1.pop()"
   ]
  },
  {
   "cell_type": "code",
   "execution_count": 19,
   "id": "a4e97515",
   "metadata": {},
   "outputs": [
    {
     "data": {
      "text/plain": [
       "15"
      ]
     },
     "execution_count": 19,
     "metadata": {},
     "output_type": "execute_result"
    }
   ],
   "source": [
    "stack1.pop()"
   ]
  },
  {
   "cell_type": "code",
   "execution_count": 20,
   "id": "31a026a8",
   "metadata": {},
   "outputs": [
    {
     "name": "stdout",
     "output_type": "stream",
     "text": [
      "5->10->11->"
     ]
    }
   ],
   "source": [
    "stack1.traverse()"
   ]
  },
  {
   "cell_type": "code",
   "execution_count": 21,
   "id": "b8e11491",
   "metadata": {},
   "outputs": [
    {
     "data": {
      "text/plain": [
       "11"
      ]
     },
     "execution_count": 21,
     "metadata": {},
     "output_type": "execute_result"
    }
   ],
   "source": [
    "stack1.peek()"
   ]
  },
  {
   "cell_type": "code",
   "execution_count": 23,
   "id": "763975e1",
   "metadata": {},
   "outputs": [
    {
     "data": {
      "text/plain": [
       "3"
      ]
     },
     "execution_count": 23,
     "metadata": {},
     "output_type": "execute_result"
    }
   ],
   "source": [
    "stack1.size()"
   ]
  },
  {
   "cell_type": "code",
   "execution_count": 24,
   "id": "fb4db942",
   "metadata": {},
   "outputs": [],
   "source": [
    "stack1.push(80)\n",
    "stack1.push(90)"
   ]
  },
  {
   "cell_type": "code",
   "execution_count": 25,
   "id": "2c24722f",
   "metadata": {},
   "outputs": [
    {
     "name": "stdout",
     "output_type": "stream",
     "text": [
      "5->10->11->80->90->"
     ]
    }
   ],
   "source": [
    "stack1.traverse()"
   ]
  },
  {
   "cell_type": "code",
   "execution_count": 26,
   "id": "fb8857c9",
   "metadata": {},
   "outputs": [],
   "source": [
    "deletemiddle(stack1)"
   ]
  },
  {
   "cell_type": "code",
   "execution_count": 27,
   "id": "da50d784",
   "metadata": {},
   "outputs": [
    {
     "name": "stdout",
     "output_type": "stream",
     "text": [
      "5->10->80->90->"
     ]
    }
   ],
   "source": [
    "stack1.traverse()"
   ]
  },
  {
   "cell_type": "code",
   "execution_count": 30,
   "id": "54793d50",
   "metadata": {},
   "outputs": [
    {
     "name": "stdout",
     "output_type": "stream",
     "text": [
      "5->10->80->90->5->"
     ]
    }
   ],
   "source": [
    "stack1.traverse()"
   ]
  },
  {
   "cell_type": "code",
   "execution_count": 31,
   "id": "c02f5cbe",
   "metadata": {},
   "outputs": [
    {
     "name": "stdout",
     "output_type": "stream",
     "text": [
      "2\n"
     ]
    }
   ],
   "source": [
    "deletemiddle(stack1)"
   ]
  },
  {
   "cell_type": "code",
   "execution_count": 105,
   "id": "ddee512a",
   "metadata": {},
   "outputs": [],
   "source": [
    "class Queue:\n",
    "    def __init__(self,capacity):\n",
    "        self.front = -1\n",
    "        self.rear = -1\n",
    "        self.capacity = capacity\n",
    "        self.arr = [None] * capacity\n",
    "        self.size = 0\n",
    "        \n",
    "    def isEmpty(self):\n",
    "        return self.front == -1\n",
    "    def isFull(self):\n",
    "        return (self.front + 1)%self.capacity == self.rear\n",
    "    def enQueue(self,data):\n",
    "        if (self.isFull()):\n",
    "            print('Queue Overflow')\n",
    "            return\n",
    "        \n",
    "        self.front = (self.front + 1)%self.capacity\n",
    "        self.arr[self.front] = data\n",
    "        \n",
    "        if self.rear == -1 :\n",
    "            self.rear = 0\n",
    "            \n",
    "        self.size += 1\n",
    "        \n",
    "    def deQueue(self):\n",
    "        if (self.isEmpty()):\n",
    "            print(\"Queue Underflow\")\n",
    "            return\n",
    "        data = self.arr[self.rear]\n",
    "        if self.front == self.rear :\n",
    "            self.front = -1\n",
    "            self.rear = -1\n",
    "        self.rear = (self.rear + 1)%self.capacity\n",
    "        self.size -= 1\n",
    "        return data\n",
    "    \n",
    "    def length(self):\n",
    "        return self.size\n",
    "    \n",
    "    def traverse(self):\n",
    "        for i in range(self.size):\n",
    "            print(self.arr[(self.rear + i)%self.capacity],end=\",\")\n",
    "        "
   ]
  },
  {
   "cell_type": "code",
   "execution_count": 106,
   "id": "bc5020a7",
   "metadata": {},
   "outputs": [],
   "source": [
    "queue1 = Queue(5)"
   ]
  },
  {
   "cell_type": "code",
   "execution_count": 107,
   "id": "4ce61b41",
   "metadata": {},
   "outputs": [
    {
     "data": {
      "text/plain": [
       "True"
      ]
     },
     "execution_count": 107,
     "metadata": {},
     "output_type": "execute_result"
    }
   ],
   "source": [
    "queue1.isEmpty()"
   ]
  },
  {
   "cell_type": "code",
   "execution_count": 108,
   "id": "4264d775",
   "metadata": {},
   "outputs": [
    {
     "data": {
      "text/plain": [
       "False"
      ]
     },
     "execution_count": 108,
     "metadata": {},
     "output_type": "execute_result"
    }
   ],
   "source": [
    "queue1.isFull()"
   ]
  },
  {
   "cell_type": "code",
   "execution_count": 109,
   "id": "264145ec",
   "metadata": {},
   "outputs": [],
   "source": [
    "queue1.enQueue(5)\n",
    "queue1.enQueue(10)\n",
    "queue1.enQueue(15)\n",
    "queue1.enQueue(12)\n",
    "queue1.enQueue(16)"
   ]
  },
  {
   "cell_type": "code",
   "execution_count": 110,
   "id": "d75ecc99",
   "metadata": {},
   "outputs": [
    {
     "name": "stdout",
     "output_type": "stream",
     "text": [
      "5,10,15,12,16,"
     ]
    }
   ],
   "source": [
    "queue1.traverse()"
   ]
  },
  {
   "cell_type": "code",
   "execution_count": 111,
   "id": "106f4b9b",
   "metadata": {},
   "outputs": [
    {
     "data": {
      "text/plain": [
       "5"
      ]
     },
     "execution_count": 111,
     "metadata": {},
     "output_type": "execute_result"
    }
   ],
   "source": [
    "queue1.deQueue()"
   ]
  },
  {
   "cell_type": "code",
   "execution_count": 112,
   "id": "43d1ec85",
   "metadata": {},
   "outputs": [
    {
     "data": {
      "text/plain": [
       "10"
      ]
     },
     "execution_count": 112,
     "metadata": {},
     "output_type": "execute_result"
    }
   ],
   "source": [
    "queue1.deQueue()"
   ]
  },
  {
   "cell_type": "code",
   "execution_count": 113,
   "id": "d313bfed",
   "metadata": {},
   "outputs": [
    {
     "name": "stdout",
     "output_type": "stream",
     "text": [
      "15,12,16,"
     ]
    }
   ],
   "source": [
    "queue1.traverse()"
   ]
  },
  {
   "cell_type": "code",
   "execution_count": 114,
   "id": "ab0965c4",
   "metadata": {},
   "outputs": [
    {
     "data": {
      "text/plain": [
       "3"
      ]
     },
     "execution_count": 114,
     "metadata": {},
     "output_type": "execute_result"
    }
   ],
   "source": [
    "queue1.length()"
   ]
  },
  {
   "cell_type": "code",
   "execution_count": 115,
   "id": "4a71370a",
   "metadata": {},
   "outputs": [],
   "source": [
    "queue1.enQueue(4)"
   ]
  },
  {
   "cell_type": "code",
   "execution_count": 116,
   "id": "0bf95141",
   "metadata": {},
   "outputs": [
    {
     "name": "stdout",
     "output_type": "stream",
     "text": [
      "15,12,16,4,"
     ]
    }
   ],
   "source": [
    "queue1.traverse()"
   ]
  },
  {
   "cell_type": "code",
   "execution_count": 117,
   "id": "36da8686",
   "metadata": {},
   "outputs": [
    {
     "data": {
      "text/plain": [
       "False"
      ]
     },
     "execution_count": 117,
     "metadata": {},
     "output_type": "execute_result"
    }
   ],
   "source": [
    "queue1.isFull()"
   ]
  },
  {
   "cell_type": "code",
   "execution_count": 118,
   "id": "44c978db",
   "metadata": {},
   "outputs": [],
   "source": [
    "queue1.enQueue(11)"
   ]
  },
  {
   "cell_type": "code",
   "execution_count": 119,
   "id": "3a18cd3c",
   "metadata": {},
   "outputs": [
    {
     "name": "stdout",
     "output_type": "stream",
     "text": [
      "15,12,16,4,11,"
     ]
    }
   ],
   "source": [
    "queue1.traverse()"
   ]
  },
  {
   "cell_type": "code",
   "execution_count": 120,
   "id": "8e6c387e",
   "metadata": {},
   "outputs": [
    {
     "data": {
      "text/plain": [
       "True"
      ]
     },
     "execution_count": 120,
     "metadata": {},
     "output_type": "execute_result"
    }
   ],
   "source": [
    "queue1.isFull()"
   ]
  },
  {
   "cell_type": "code",
   "execution_count": null,
   "id": "b7fc5a01",
   "metadata": {},
   "outputs": [],
   "source": [
    "# Size denotes the size of the queue at any instant of time.\n",
    "# capacity represents the size of the array."
   ]
  },
  {
   "cell_type": "code",
   "execution_count": 123,
   "id": "ca6cbe00",
   "metadata": {},
   "outputs": [],
   "source": [
    "# Linked List\n",
    "\n",
    "class Node:\n",
    "    def __init__(self,data=None,next = None):\n",
    "        self.data = data\n",
    "        self.next = next\n",
    "        \n",
    "    def setData(self,data):\n",
    "        self.data = data\n",
    "    def getData(self):\n",
    "        return self.data\n",
    "    def setNext(self,next):\n",
    "        self.next = next\n",
    "    def getNext(self):\n",
    "        return self.next\n"
   ]
  },
  {
   "cell_type": "code",
   "execution_count": 124,
   "id": "6ec68b2e",
   "metadata": {},
   "outputs": [],
   "source": [
    "head = Node(40)\n",
    "node1 = Node(80)\n",
    "node2 = Node(100)\n",
    "node3 = Node(120)\n",
    "node4 = Node(150)\n",
    "\n",
    "head.setNext(node1)\n",
    "node1.setNext(node2)\n",
    "node2.setNext(node3)\n",
    "node3.setNext(node4)\n"
   ]
  },
  {
   "cell_type": "code",
   "execution_count": 128,
   "id": "d3aa666e",
   "metadata": {},
   "outputs": [],
   "source": [
    "def traverse(head):\n",
    "    temp = head\n",
    "    while(temp):\n",
    "        print(temp.getData(),end=\"->\")\n",
    "        temp = temp.getNext()\n"
   ]
  },
  {
   "cell_type": "code",
   "execution_count": 130,
   "id": "10d0bd84",
   "metadata": {},
   "outputs": [
    {
     "name": "stdout",
     "output_type": "stream",
     "text": [
      "40->80->100->120->150->"
     ]
    }
   ],
   "source": [
    "traverse(head)"
   ]
  },
  {
   "cell_type": "code",
   "execution_count": 132,
   "id": "8a8ee5ee",
   "metadata": {},
   "outputs": [
    {
     "data": {
      "text/plain": [
       "5"
      ]
     },
     "execution_count": 132,
     "metadata": {},
     "output_type": "execute_result"
    }
   ],
   "source": [
    "def length(head):\n",
    "    temp = head\n",
    "    len=0\n",
    "    while(temp):\n",
    "        len+=1\n",
    "        temp=temp.getNext()\n",
    "    return len\n",
    "        \n",
    "length(head)"
   ]
  },
  {
   "cell_type": "code",
   "execution_count": 145,
   "id": "89127db9",
   "metadata": {},
   "outputs": [],
   "source": [
    "# insertion at kth node\n",
    "\n",
    "def insert(head,data,k):\n",
    "    if (k<0 or k>length(head)):\n",
    "        print(\"invalid k\")\n",
    "        return head\n",
    "    \n",
    "    newnode = Node(data)\n",
    "    \n",
    "    if k==0:\n",
    "        newnode.setNext(head)\n",
    "        head = newnode\n",
    "        \n",
    "    else:\n",
    "        # if k not in the beginning we jump to the previous node of the position\n",
    "        prev = head\n",
    "        i = 0\n",
    "        while(i<k-1):\n",
    "            prev = prev.getNext()\n",
    "            i+=1\n",
    "            \n",
    "        newnode.setNext(prev.getNext())\n",
    "        prev.setNext(newnode)\n",
    "        \n",
    "    return head\n",
    "    "
   ]
  },
  {
   "cell_type": "code",
   "execution_count": 146,
   "id": "214494d3",
   "metadata": {},
   "outputs": [
    {
     "name": "stdout",
     "output_type": "stream",
     "text": [
      "40->80->100->900->120->150->"
     ]
    }
   ],
   "source": [
    "traverse(head)"
   ]
  },
  {
   "cell_type": "code",
   "execution_count": 135,
   "id": "2ca6944d",
   "metadata": {},
   "outputs": [
    {
     "data": {
      "text/plain": [
       "<__main__.Node at 0x1412cabb450>"
      ]
     },
     "execution_count": 135,
     "metadata": {},
     "output_type": "execute_result"
    }
   ],
   "source": [
    "insert(head,900,3)"
   ]
  },
  {
   "cell_type": "code",
   "execution_count": 136,
   "id": "1b2ec974",
   "metadata": {},
   "outputs": [
    {
     "name": "stdout",
     "output_type": "stream",
     "text": [
      "40->80->100->900->120->150->"
     ]
    }
   ],
   "source": [
    "traverse(head)"
   ]
  },
  {
   "cell_type": "code",
   "execution_count": 139,
   "id": "f7e2a815",
   "metadata": {},
   "outputs": [
    {
     "data": {
      "text/plain": [
       "<__main__.Node at 0x1412cb05f50>"
      ]
     },
     "execution_count": 139,
     "metadata": {},
     "output_type": "execute_result"
    }
   ],
   "source": [
    "insert(head,1000,0)"
   ]
  },
  {
   "cell_type": "code",
   "execution_count": 140,
   "id": "bef2ac75",
   "metadata": {},
   "outputs": [
    {
     "name": "stdout",
     "output_type": "stream",
     "text": [
      "40->80->100->900->120->150->"
     ]
    }
   ],
   "source": [
    "traverse(head)"
   ]
  },
  {
   "cell_type": "code",
   "execution_count": 147,
   "id": "9295d1f6",
   "metadata": {},
   "outputs": [
    {
     "name": "stdout",
     "output_type": "stream",
     "text": [
      "1000->40->80->100->900->120->150->"
     ]
    }
   ],
   "source": [
    "newhead = insert(head,1000,0)\n",
    "traverse(newhead)"
   ]
  },
  {
   "cell_type": "code",
   "execution_count": 142,
   "id": "a5f06e63",
   "metadata": {},
   "outputs": [],
   "source": [
    "def delete(head,k):\n",
    "    if (k<0 or k>=length(head)):\n",
    "        print('invalid k')\n",
    "        return head\n",
    "    \n",
    "    if k==0:\n",
    "        head = head.getNext()\n",
    "        \n",
    "    else:\n",
    "        prev = head\n",
    "        i = 0\n",
    "        while(i<k-1):\n",
    "            prev = prev.getNext()\n",
    "            i+=1\n",
    "            \n",
    "        prev1 = prev.getNext()\n",
    "        prev.setNext(prev1.getNext())\n",
    "    \n",
    "    return head"
   ]
  },
  {
   "cell_type": "code",
   "execution_count": 152,
   "id": "c0201b10",
   "metadata": {},
   "outputs": [
    {
     "data": {
      "text/plain": [
       "<__main__.Node at 0x1412cab0c90>"
      ]
     },
     "execution_count": 152,
     "metadata": {},
     "output_type": "execute_result"
    }
   ],
   "source": [
    "insert(newhead,600,7)"
   ]
  },
  {
   "cell_type": "code",
   "execution_count": 153,
   "id": "a6d42928",
   "metadata": {},
   "outputs": [
    {
     "name": "stdout",
     "output_type": "stream",
     "text": [
      "1000->40->80->100->900->120->150->600->"
     ]
    }
   ],
   "source": [
    "traverse(newhead)"
   ]
  },
  {
   "cell_type": "code",
   "execution_count": 154,
   "id": "b0c2f7e5",
   "metadata": {},
   "outputs": [],
   "source": [
    "head = Node(80)\n",
    "n2 = Node(100)\n",
    "n3 = Node(400)\n",
    "n4=Node(500)\n",
    "n5 = Node(600)\n",
    "\n",
    "\n",
    "head.setNext(n2)\n",
    "n2.setNext(n3)\n",
    "n3.setNext(n4)\n",
    "n4.setNext(n5)\n"
   ]
  },
  {
   "cell_type": "code",
   "execution_count": 155,
   "id": "749f1ac6",
   "metadata": {},
   "outputs": [
    {
     "name": "stdout",
     "output_type": "stream",
     "text": [
      "80->100->400->500->600->"
     ]
    }
   ],
   "source": [
    "traverse(head)"
   ]
  },
  {
   "cell_type": "code",
   "execution_count": 156,
   "id": "71a61923",
   "metadata": {},
   "outputs": [
    {
     "data": {
      "text/plain": [
       "<__main__.Node at 0x1412cb04950>"
      ]
     },
     "execution_count": 156,
     "metadata": {},
     "output_type": "execute_result"
    }
   ],
   "source": [
    "insert(head,900,5)"
   ]
  },
  {
   "cell_type": "code",
   "execution_count": 157,
   "id": "e210cf0a",
   "metadata": {},
   "outputs": [
    {
     "name": "stdout",
     "output_type": "stream",
     "text": [
      "80->100->400->500->600->900->"
     ]
    }
   ],
   "source": [
    "traverse(head)"
   ]
  },
  {
   "cell_type": "code",
   "execution_count": 158,
   "id": "643eab1f",
   "metadata": {},
   "outputs": [
    {
     "data": {
      "text/plain": [
       "<__main__.Node at 0x1412cb04950>"
      ]
     },
     "execution_count": 158,
     "metadata": {},
     "output_type": "execute_result"
    }
   ],
   "source": [
    "delete(head,4)"
   ]
  },
  {
   "cell_type": "code",
   "execution_count": 159,
   "id": "9c7ad65a",
   "metadata": {},
   "outputs": [
    {
     "name": "stdout",
     "output_type": "stream",
     "text": [
      "80->100->400->500->900->"
     ]
    }
   ],
   "source": [
    "traverse(head)"
   ]
  },
  {
   "cell_type": "code",
   "execution_count": 160,
   "id": "18f38625",
   "metadata": {},
   "outputs": [
    {
     "data": {
      "text/plain": [
       "[4, 6, 7, 9, 10]"
      ]
     },
     "execution_count": 160,
     "metadata": {},
     "output_type": "execute_result"
    }
   ],
   "source": [
    "def bubble(arr):\n",
    "    for i in range(len(arr)-1,0,-1):\n",
    "        for j in range(i):\n",
    "            if arr[j] > arr[j+1]:\n",
    "                arr[j] , arr[j+1] = arr[j+1] , arr[j]\n",
    "\n",
    "    return arr\n",
    "arr = [10,9,4,6,7]\n",
    "bubble(arr)"
   ]
  },
  {
   "cell_type": "code",
   "execution_count": 161,
   "id": "5a06f2ee",
   "metadata": {},
   "outputs": [
    {
     "data": {
      "text/plain": [
       "[47, 60, 80, 85, 90, 100]"
      ]
     },
     "execution_count": 161,
     "metadata": {},
     "output_type": "execute_result"
    }
   ],
   "source": [
    "def selection(arr):\n",
    "    for i in range(len(arr)-1):\n",
    "        min = i\n",
    "        for j in range(i+1,len(arr)):\n",
    "            if arr[j] < arr[min]:\n",
    "                min = j\n",
    "        arr[i] , arr[min] = arr[min] , arr[i]\n",
    "        \n",
    "    return arr\n",
    "\n",
    "arr = [90,80,100,85,47,60]\n",
    "selection(arr)"
   ]
  },
  {
   "cell_type": "code",
   "execution_count": null,
   "id": "dbfd412f",
   "metadata": {},
   "outputs": [],
   "source": []
  }
 ],
 "metadata": {
  "kernelspec": {
   "display_name": "Python 3 (ipykernel)",
   "language": "python",
   "name": "python3"
  },
  "language_info": {
   "codemirror_mode": {
    "name": "ipython",
    "version": 3
   },
   "file_extension": ".py",
   "mimetype": "text/x-python",
   "name": "python",
   "nbconvert_exporter": "python",
   "pygments_lexer": "ipython3",
   "version": "3.11.3"
  }
 },
 "nbformat": 4,
 "nbformat_minor": 5
}
