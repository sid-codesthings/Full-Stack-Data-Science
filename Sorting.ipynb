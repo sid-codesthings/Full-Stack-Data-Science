{
 "cells": [
  {
   "cell_type": "code",
   "execution_count": 8,
   "id": "d85d7ee5-d8be-422c-8e92-2829304d3f08",
   "metadata": {},
   "outputs": [],
   "source": [
    "# Bubble Sorting\n",
    "\n",
    "def bubbleSort(arr):\n",
    "    for i in range(len(arr)-1 , 0 , -1):\n",
    "        for j in range(i):\n",
    "            if(arr[j] > arr[j+1]):\n",
    "                arr[j],arr[j+1] = arr[j+1],arr[j] #swapping\n",
    "                \n"
   ]
  },
  {
   "cell_type": "code",
   "execution_count": 9,
   "id": "c95635eb-610b-4453-8f63-27a353b00741",
   "metadata": {},
   "outputs": [
    {
     "name": "stdout",
     "output_type": "stream",
     "text": [
      "[1, 2, 3, 4, 5, 6, 7, 8]\n"
     ]
    }
   ],
   "source": [
    "arr = [8,7,6,5,4,3,2,1]\n",
    "bubbleSort(arr)\n",
    "print(arr)"
   ]
  },
  {
   "cell_type": "code",
   "execution_count": 31,
   "id": "12ae6a0d-44f1-4761-88f8-b55b74c5a11b",
   "metadata": {},
   "outputs": [],
   "source": [
    "# If we want to reduce its O(n^2) time complexity for an already sorted or nearly sorted array(i.e.best case scenario),\n",
    "# then we will introduce a flag variable to reduce the no of operations.\n",
    "\n",
    "def bubbleSort(arr):\n",
    "    for i in range(len(arr)-1 , 0 , -1):\n",
    "        isSorted = True\n",
    "        for j in range(i):\n",
    "            if(arr[j] > arr[j+1]):\n",
    "                isSorted = False\n",
    "                arr[j],arr[j+1] = arr[j+1],arr[j]\n",
    "                \n",
    "        if isSorted : # meaning true\n",
    "            return f\"Array : {arr} is already Sorted\"\n",
    "            break\n",
    "            \n",
    "# the outer loop for its 1 time run , the inner loop will run for n-1 time or l-1 time .\n",
    "# when it will see that all the numbers are sorted  , it will check the isSorted condition and break off.\n",
    "# so the complexity will be 1 * (n-1) times which is O(n) . (for a sorted array)"
   ]
  },
  {
   "cell_type": "code",
   "execution_count": 32,
   "id": "aef5c451-378e-4f91-8dd2-7d68f340ab61",
   "metadata": {},
   "outputs": [
    {
     "data": {
      "text/plain": [
       "'Array : [1, 2, 3, 4, 5, 6] is already Sorted'"
      ]
     },
     "execution_count": 32,
     "metadata": {},
     "output_type": "execute_result"
    }
   ],
   "source": [
    "arr = [1,2,3,4,5,6]\n",
    "bubbleSort(arr)"
   ]
  },
  {
   "cell_type": "code",
   "execution_count": null,
   "id": "dccf8e1b-2bde-45da-8270-af781c205edd",
   "metadata": {},
   "outputs": [],
   "source": [
    "# So in the first bubble sort program , worst case was O(n^2) , it was O(n^2) also \n",
    "# in the 2nd program for its worst case scenario but in its best case scenario it was\n",
    "# O(n) ."
   ]
  },
  {
   "cell_type": "code",
   "execution_count": 42,
   "id": "c6adcc8d-20df-456b-b234-1acf38751fcd",
   "metadata": {},
   "outputs": [],
   "source": [
    "# Given an array , checj if the array is sorted .\n",
    "\n",
    "def isSorted(arr):\n",
    "    isSorted = True\n",
    "    for i in range(len(arr)-1):\n",
    "        if(arr[i] > arr[i+1]):\n",
    "            isSorted = False\n",
    "            break\n",
    "                \n",
    "    if isSorted : # meaning true\n",
    "        print(\"Array is Sorted\")\n",
    "    else:\n",
    "        print(\"Array is unsorted\")\n"
   ]
  },
  {
   "cell_type": "code",
   "execution_count": 46,
   "id": "5c84a086-8ac4-410e-a161-6a69e17156df",
   "metadata": {},
   "outputs": [
    {
     "name": "stdout",
     "output_type": "stream",
     "text": [
      "Array is unsorted\n"
     ]
    }
   ],
   "source": [
    "arr = [1,2,3,4,6,5]\n",
    "isSorted(arr)"
   ]
  },
  {
   "cell_type": "code",
   "execution_count": null,
   "id": "9cf7e172-5723-4ab0-b6d0-9595c9625e53",
   "metadata": {},
   "outputs": [],
   "source": [
    "# Selection Sort\n",
    "\n",
    "# We select the smallest  vlaue from left to right and put it at first .\n",
    "'''\n",
    "arr = {5,4,3,2,1}\n",
    "{1,4,3,2,5} SELECTING 1 (first smallest)\n",
    "{1,2,3,4,5} selecting 2 (2nd smallest)\n",
    "\n",
    "Another eg : {5,6,8,9,2,1}\n",
    "{1,6,8,9,2,5} 1st smallest is 1 , now move to 2nd position\n",
    "{1,2,8,9,6,5} 2nd smallest is 2\n",
    "{1,2,5,9,6,8} 3rd smallest among remaining 4 numbers was 5 . So swapped 5 with 8 .\n",
    "{1,2,5,6,9,8} similarly \n",
    "{1,2,5,6,8,9} similarly\n",
    "\n",
    "If we do it by seleccting the largest then swap it with element in the last position\n",
    "and come ahead sequentially .\n"
   ]
  },
  {
   "cell_type": "code",
   "execution_count": 5,
   "id": "ec5802ab-a01d-4f75-932d-67d3c476fe9d",
   "metadata": {},
   "outputs": [],
   "source": [
    "# Selection Sorting\n",
    "def selection(arr):\n",
    "    for i in range(len(arr)):\n",
    "        min = i\n",
    "        for j in range(i+1,len(arr)):\n",
    "            if arr[j] < arr[min]:\n",
    "                min = j\n",
    "    \n",
    "        # find the smallest values\n",
    "        arr[i] , arr[min] = arr[min] , arr[i]\n",
    "    return arr\n",
    "    \n",
    "            \n",
    "# 2:13:12"
   ]
  },
  {
   "cell_type": "code",
   "execution_count": 6,
   "id": "0ccdcd93-6945-4a97-9913-ae25190e86b2",
   "metadata": {},
   "outputs": [
    {
     "data": {
      "text/plain": [
       "[1, 2, 5, 6, 8, 9]"
      ]
     },
     "execution_count": 6,
     "metadata": {},
     "output_type": "execute_result"
    }
   ],
   "source": [
    "arr = [5,6,8,9,2,1]\n",
    "selection(arr)\n"
   ]
  },
  {
   "cell_type": "code",
   "execution_count": 1,
   "id": "03d4c617-da90-4066-b86e-3a3a20bd6357",
   "metadata": {},
   "outputs": [],
   "source": [
    "\n",
    "# Bubble Sort is a stable sorting algorithm .\n",
    "# Selection Sort is an unstable sorting algorithm(do dry run for [5,3,5',2,1] , we shall find that\n",
    "# the sorted array comes as [1,2,3,5',5] .\n",
    "# for less no of swapping we use Selection Sort ."
   ]
  },
  {
   "cell_type": "code",
   "execution_count": 2,
   "id": "4727f099-482b-49c9-9e2d-42bc9eb69b63",
   "metadata": {},
   "outputs": [],
   "source": [
    "# In-built Sort Method .\n",
    "arr = [5,4,1,8,9]"
   ]
  },
  {
   "cell_type": "code",
   "execution_count": 4,
   "id": "ac9d38b5-48af-460a-b69e-21aa367b888c",
   "metadata": {},
   "outputs": [],
   "source": [
    "arr.sort()"
   ]
  },
  {
   "cell_type": "code",
   "execution_count": 5,
   "id": "89de54de-9201-4f9c-b08c-5fb013b27e94",
   "metadata": {},
   "outputs": [
    {
     "data": {
      "text/plain": [
       "[1, 4, 5, 8, 9]"
      ]
     },
     "execution_count": 5,
     "metadata": {},
     "output_type": "execute_result"
    }
   ],
   "source": [
    "arr"
   ]
  },
  {
   "cell_type": "code",
   "execution_count": 6,
   "id": "8245e01c-7be4-4416-bec6-5feefe97f26d",
   "metadata": {},
   "outputs": [],
   "source": [
    "# Insertion Sort / Online Sorting Algorithm (same)"
   ]
  },
  {
   "cell_type": "code",
   "execution_count": 1,
   "id": "4ccedb2d-4a8f-4d1b-bc66-901d26e66b25",
   "metadata": {},
   "outputs": [],
   "source": [
    "# {3,5,2,1,4}\n",
    "'''\n",
    "Lets divide the whole array into a sorted part and an unsorted part.\n",
    "\n",
    "{      3         ,  5,2,1,4       }\n",
    " Sorted part     ,  Unsorted part \n",
    " \n",
    " We take 5 from unsorted part and see whether there is any element bigger than 5 . No .\n",
    " So its okay , place it beside 3,5 . Now it is ,\n",
    " {3,5 is sorted part 2,1,4 is unsorted}\n",
    " Now 2 is lesser than 5 and 3 so\n",
    " {2,3,5 is sorted part now and 1,4 is unsorted }\n",
    " Similarly it goes on till\n",
    " {1,2,3,4,5}\n",
    " \n",
    " '''"
   ]
  },
  {
   "cell_type": "code",
   "execution_count": 2,
   "id": "2486f8f7-44a5-44b9-a1ab-c57ed5b15f81",
   "metadata": {},
   "outputs": [],
   "source": [
    "# Code \n",
    "\n",
    "def insertion_sort(arr):\n",
    "    for i in range(1,len(arr)):\n",
    "        v = arr[i]\n",
    "        j = i\n",
    "        while(j >= 1 and arr[j-1] > v):\n",
    "            arr[j] = arr[j-1]\n",
    "            j = j - 1\n",
    "        arr[j] = v\n",
    "    return arr"
   ]
  },
  {
   "cell_type": "code",
   "execution_count": 5,
   "id": "59f4df1c-c4d3-42b6-b083-6a0ef26da72e",
   "metadata": {},
   "outputs": [
    {
     "data": {
      "text/plain": [
       "[1, 3, 4, 5]"
      ]
     },
     "execution_count": 5,
     "metadata": {},
     "output_type": "execute_result"
    }
   ],
   "source": [
    "# Driver Code\n",
    "arr = [3,1,5,4]\n",
    "insertion_sort(arr)"
   ]
  },
  {
   "cell_type": "code",
   "execution_count": null,
   "id": "d94ed055-0841-4782-99c5-f16036f42547",
   "metadata": {},
   "outputs": [],
   "source": [
    "# Insertion sort actual use case :\n",
    "# if the array is sorted already , and in this array if I have to add another number then I shall\n",
    "# use the insertion sort .\n",
    "\n",
    "# Its use is not great for sorting an entire unsorted array ."
   ]
  },
  {
   "cell_type": "code",
   "execution_count": null,
   "id": "86db33d7-9831-447f-a9fe-88fbeef6e6f4",
   "metadata": {},
   "outputs": [],
   "source": [
    "# How it(insertion or online sorting) is useful for Data Science ?\n",
    "# When we have a stream of numbers incoming , then we shall use it to insert a new number and keep\n",
    "# all the numbers sorted .\n",
    "\n",
    "# Tell me where bubble sort will be used ?\n",
    "# It will be used only when we dont have advanced sorting algorithms available to us like the quick sort and the\n",
    "# merge sort . We will use it either when we need stable sorting or when we have a nearly sorted array , otherwise\n",
    "# we shall use selection sort .\n"
   ]
  },
  {
   "cell_type": "code",
   "execution_count": null,
   "id": "0a574e86-97e9-4377-809b-d2ecacf0c77e",
   "metadata": {},
   "outputs": [],
   "source": [
    "# Sorting as a concept is very important .\n",
    "# From Data we find information , on data we apply\n",
    "# statistical application . Before we apply that , we need to order the\n",
    "# data. This ordering of data is sorting .\n"
   ]
  },
  {
   "cell_type": "code",
   "execution_count": null,
   "id": "90102123-ed26-4ded-9f59-b9bd750c69d8",
   "metadata": {},
   "outputs": [],
   "source": [
    "'''\n",
    "\n",
    "What we do with data ?\n",
    "Ans: \n",
    "We store the data , one job .\n",
    "We do computation on data , 2nd job .\n",
    "\n",
    "We need to first search the data inorder to compute it , if searching is fast\n",
    ", then computation on it will be fast too .\n",
    "\n",
    "\n",
    "Sorting makes our search super fast . That's why we learnt sorting .\n",
    "\n",
    "Normal Search Approach :\n",
    "[3,5,9,2,1000,800,46]\n",
    "Say we want to search 7 in this array . \n",
    "The process will be - we will start searching from left to right .\n",
    "Now we see that 7 doesnt exist in the given array.\n",
    "So , here the no of searches will be equal to the no of elements(approx).\n",
    "100 numbers --> 100 searches , 1 million numbers --> 1 million searches .\n",
    "\n",
    "This is called Linear Search.\n",
    "'''"
   ]
  },
  {
   "cell_type": "code",
   "execution_count": 8,
   "id": "67e041e8-6fbd-4f3a-a6bf-ba798f37efb2",
   "metadata": {},
   "outputs": [
    {
     "name": "stdout",
     "output_type": "stream",
     "text": [
      "Number 46 found at index 6\n"
     ]
    }
   ],
   "source": [
    "# Linear Search\n",
    "\n",
    "def lin_search(arr , num):\n",
    "    for i in range(len(arr)):\n",
    "        if arr[i] == num :\n",
    "            return f\"Number {num} found at index {i}\"\n",
    "    return -1 # number doesn't exist in array\n",
    "# Driver Code\n",
    "arr = [3,5,9,2,1000,800,46]\n",
    "num = 46\n",
    "print(lin_search(arr,num))"
   ]
  },
  {
   "cell_type": "code",
   "execution_count": null,
   "id": "8ac0a319-2ff9-4c5a-b429-65eb7451472f",
   "metadata": {},
   "outputs": [],
   "source": [
    "# Time complexity : O(n) \n",
    "# Complexity increases with more amount of data\n"
   ]
  },
  {
   "cell_type": "code",
   "execution_count": null,
   "id": "b75bfba0-7c2a-4ecb-b8ed-0dafc10d8a47",
   "metadata": {},
   "outputs": [],
   "source": [
    "# Binary Search\n",
    "\n",
    "def binarysearch(arr , num):\n",
    "    left = 0\n",
    "    right = len(arr) - 1\n",
    "    \n",
    "    while(left <= right):\n",
    "        mid = int(left + (right - left)/2) # is equal to (left + right)/2\n",
    "    # but we are not using (left + right)/2 bcz it will take more space than  \n",
    "    # left + (right - left)/2 . Bcz for worst case scenarios \n",
    "    # i.e. for big numbers , the addition of left and right\n",
    "    # will be huge . So more space will be required. But if we do left + (right - left)/2\n",
    "    # then space will be less , bcz subtraction is fetching a reduced number and then adding to\n",
    "    # left is fetching a comparatively lower number in comparison to (left + right)/2 .\n",
    "    \n",
    "    # we have typecasted it to int cz we want an approx integer number as mid not float .\n",
    "        \n",
    "        if arr[mid] == num :\n",
    "            return mid\n",
    "        elif arr[mid] > num :\n",
    "            right = mid - 1\n",
    "        else :\n",
    "            left = mid + 1\n",
    "    return -1\n",
    "    "
   ]
  },
  {
   "cell_type": "code",
   "execution_count": null,
   "id": "688cefaa-6c06-4092-af77-49aaf686b721",
   "metadata": {},
   "outputs": [],
   "source": [
    "'''\n",
    "       0,1,2, 3, 4 --> index\n",
    "arr = [2,4,8,10,16] \n",
    " \n",
    "remember when 0.5 gets typecasted to int , it returns 0 .\n",
    "\n",
    "The time complexity of binary search is : O(log n)\n",
    "\n",
    "We are searching the number first from the middle(n/2) ,then from the middle of either the left or right(n/4),\n",
    "then again from the middle of the left or right of last (n/8) , then (n/16) and so on .\n",
    "So this division means logarithmic complexity .\n",
    "\n",
    "'''"
   ]
  }
 ],
 "metadata": {
  "kernelspec": {
   "display_name": "Python 3 (ipykernel)",
   "language": "python",
   "name": "python3"
  },
  "language_info": {
   "codemirror_mode": {
    "name": "ipython",
    "version": 3
   },
   "file_extension": ".py",
   "mimetype": "text/x-python",
   "name": "python",
   "nbconvert_exporter": "python",
   "pygments_lexer": "ipython3",
   "version": "3.10.8"
  }
 },
 "nbformat": 4,
 "nbformat_minor": 5
}
