{
 "cells": [
  {
   "cell_type": "code",
   "execution_count": null,
   "metadata": {
    "id": "YdQT9DiYtuAe"
   },
   "outputs": [],
   "source": [
    "class Stack :\n",
    "  def __init__(self,capacity):  #Size of the array\n",
    "    self.top = -1 #in the begining the stack will be empty\n",
    "    self.arr = [None]*capacity\n",
    "    self.capacity = capacity\n",
    "\n",
    "  def isEmpty(self):\n",
    "    return self.top == -1\n",
    "\n",
    "  def isFull(self):\n",
    "    return self.top == self.capacity-1\n",
    "\n",
    "  def push(self, data):\n",
    "    # Check if it's full\n",
    "    if self.isFull():\n",
    "      print(\"Stack overflow\")\n",
    "      return\n",
    "    self.top += 1\n",
    "    self.arr[self.top]=data\n",
    "\n",
    "  def pop(self):\n",
    "    #Check if it's empty\n",
    "    if self.isEmpty():\n",
    "      print(\"Stack underflow\")\n",
    "      return\n",
    "    data = self.arr[self.top]\n",
    "    self.arr[self.top] = None\n",
    "    self.top -= 1\n",
    "    return data\n",
    "\n",
    "  def traverse(self):\n",
    "    for i in range(self.top+1):\n",
    "      print(self.arr[i] , end=\",\")\n",
    "\n",
    "  def peek(self):\n",
    "    #Check if it's empty\n",
    "    if self.isEmpty():\n",
    "      print(\"Stack underflow\")\n",
    "      return\n",
    "    data = self.arr[self.top]\n",
    "    return data #not decrementing the top value"
   ]
  },
  {
   "cell_type": "code",
   "execution_count": null,
   "metadata": {
    "id": "5H9_R5cWB5dd"
   },
   "outputs": [],
   "source": [
    "stack = Stack(5)"
   ]
  },
  {
   "cell_type": "code",
   "execution_count": null,
   "metadata": {
    "colab": {
     "base_uri": "https://localhost:8080/"
    },
    "id": "G2913cqNH_Wl",
    "outputId": "2c100440-eb3a-434d-eba5-a7a67ccac709"
   },
   "outputs": [
    {
     "name": "stdout",
     "output_type": "stream",
     "text": [
      "True\n"
     ]
    }
   ],
   "source": [
    "print(stack.isEmpty())"
   ]
  },
  {
   "cell_type": "code",
   "execution_count": null,
   "metadata": {
    "id": "eqxWuTjaIEVB"
   },
   "outputs": [],
   "source": [
    "stack.push(3)\n",
    "stack.push(8)\n",
    "stack.push(2)"
   ]
  },
  {
   "cell_type": "code",
   "execution_count": null,
   "metadata": {
    "colab": {
     "base_uri": "https://localhost:8080/"
    },
    "id": "aYV9dMKZIvKp",
    "outputId": "93336b5c-ffeb-4e36-cc63-d7cc1262f269"
   },
   "outputs": [
    {
     "name": "stdout",
     "output_type": "stream",
     "text": [
      "3,8,2,"
     ]
    }
   ],
   "source": [
    "stack.traverse()"
   ]
  },
  {
   "cell_type": "code",
   "execution_count": null,
   "metadata": {
    "colab": {
     "base_uri": "https://localhost:8080/"
    },
    "id": "4l8We26LIKMl",
    "outputId": "e3369df1-655c-47d0-9d58-52b6e4c291a1"
   },
   "outputs": [
    {
     "name": "stdout",
     "output_type": "stream",
     "text": [
      "False\n"
     ]
    }
   ],
   "source": [
    "print(stack.isEmpty())"
   ]
  },
  {
   "cell_type": "code",
   "execution_count": null,
   "metadata": {
    "colab": {
     "base_uri": "https://localhost:8080/"
    },
    "id": "wsm4RoQaIPxy",
    "outputId": "7c58a374-1a8e-4601-d0a5-b0eab092694e"
   },
   "outputs": [
    {
     "name": "stdout",
     "output_type": "stream",
     "text": [
      "2\n"
     ]
    }
   ],
   "source": [
    "print(stack.pop())"
   ]
  },
  {
   "cell_type": "code",
   "execution_count": null,
   "metadata": {
    "colab": {
     "base_uri": "https://localhost:8080/"
    },
    "id": "hLgYTY7i2rOP",
    "outputId": "edea5909-ab67-44cb-a862-5b32d1cd99b5"
   },
   "outputs": [
    {
     "name": "stdout",
     "output_type": "stream",
     "text": [
      "3,8,"
     ]
    }
   ],
   "source": [
    "stack.traverse()"
   ]
  },
  {
   "cell_type": "code",
   "execution_count": null,
   "metadata": {
    "id": "7TORr-9Y2wze"
   },
   "outputs": [],
   "source": [
    "stack.push(11)"
   ]
  },
  {
   "cell_type": "code",
   "execution_count": null,
   "metadata": {
    "colab": {
     "base_uri": "https://localhost:8080/"
    },
    "id": "HgMtiGio2z_I",
    "outputId": "834dfd38-15f9-4145-91d1-c9d6c7428c1c"
   },
   "outputs": [
    {
     "name": "stdout",
     "output_type": "stream",
     "text": [
      "3,8,11,"
     ]
    }
   ],
   "source": [
    "stack.traverse()"
   ]
  },
  {
   "cell_type": "code",
   "execution_count": null,
   "metadata": {
    "colab": {
     "base_uri": "https://localhost:8080/"
    },
    "id": "tLZkSKsg3B88",
    "outputId": "3449161e-0b85-4a71-ad1d-4c942a81a5ac"
   },
   "outputs": [
    {
     "name": "stdout",
     "output_type": "stream",
     "text": [
      "11\n"
     ]
    }
   ],
   "source": [
    "print(stack.peek())"
   ]
  },
  {
   "cell_type": "code",
   "execution_count": null,
   "metadata": {
    "colab": {
     "base_uri": "https://localhost:8080/"
    },
    "id": "kPbmjKcJ3FB5",
    "outputId": "c70c4847-669d-495a-c771-724f3cd3130f"
   },
   "outputs": [
    {
     "name": "stdout",
     "output_type": "stream",
     "text": [
      "3,8,11,"
     ]
    }
   ],
   "source": [
    "stack.traverse()"
   ]
  },
  {
   "cell_type": "code",
   "execution_count": null,
   "metadata": {
    "id": "laMKD8wmJ4pb"
   },
   "outputs": [],
   "source": [
    "stack = Stack(4)"
   ]
  },
  {
   "cell_type": "code",
   "execution_count": null,
   "metadata": {
    "id": "ZCxW5i3uJ7ql"
   },
   "outputs": [],
   "source": [
    "stack.traverse()"
   ]
  },
  {
   "cell_type": "code",
   "execution_count": null,
   "metadata": {
    "id": "Ly5IDglQJ-w7"
   },
   "outputs": [],
   "source": [
    "stack.push(7)"
   ]
  },
  {
   "cell_type": "code",
   "execution_count": null,
   "metadata": {
    "id": "yoWq2GMhKB0d"
   },
   "outputs": [],
   "source": [
    "stack.push(9)"
   ]
  },
  {
   "cell_type": "code",
   "execution_count": null,
   "metadata": {
    "colab": {
     "base_uri": "https://localhost:8080/"
    },
    "id": "KlteTIdcKEw6",
    "outputId": "4d6324dd-2e7b-4e73-d466-d823d05b45f0"
   },
   "outputs": [
    {
     "name": "stdout",
     "output_type": "stream",
     "text": [
      "7,9,"
     ]
    }
   ],
   "source": [
    "stack.traverse()"
   ]
  },
  {
   "cell_type": "code",
   "execution_count": null,
   "metadata": {
    "colab": {
     "base_uri": "https://localhost:8080/"
    },
    "id": "CkhnJqczKG9i",
    "outputId": "fade5bb7-918f-4d21-d0ec-86d1beb46316"
   },
   "outputs": [
    {
     "name": "stdout",
     "output_type": "stream",
     "text": [
      "9\n"
     ]
    }
   ],
   "source": [
    "print(stack.pop())"
   ]
  },
  {
   "cell_type": "code",
   "execution_count": null,
   "metadata": {
    "colab": {
     "base_uri": "https://localhost:8080/"
    },
    "id": "YabS4U66KKoc",
    "outputId": "b7f762a9-202d-4984-9b0d-fd95ab79c7a8"
   },
   "outputs": [
    {
     "name": "stdout",
     "output_type": "stream",
     "text": [
      "7,"
     ]
    }
   ],
   "source": [
    "stack.traverse()"
   ]
  },
  {
   "cell_type": "code",
   "execution_count": null,
   "metadata": {
    "id": "6Hao138zVaB8"
   },
   "outputs": [],
   "source": [
    "class Node :\n",
    "\n",
    "  def __init__(self, data, next=None):\n",
    "    self.data = data\n",
    "    self.next = next\n",
    "\n",
    "  def getData(self):\n",
    "    return self.data\n",
    "\n",
    "  def setData(self, data):\n",
    "    self.data = data\n",
    "\n",
    "  def setNext(self, next):\n",
    "    self.next = next\n",
    "\n",
    "  def getNext(self):\n",
    "    return self.next"
   ]
  },
  {
   "cell_type": "code",
   "execution_count": null,
   "metadata": {
    "id": "gsmRK4TBV3UF"
   },
   "outputs": [],
   "source": [
    "class StackLL :\n",
    "  def __init__(self):\n",
    "    self.head = None #in the begining stack is empty so head is None\n",
    "\n",
    "  def isEmpty(self):\n",
    "    return self.head == None #in the begining, head is None\n",
    "\n",
    "  def push(self, data):\n",
    "    node = Node(data) # create a new node with the given data\n",
    "    node.setNext(self.head)\n",
    "    self.head = node\n",
    "\n",
    "  def pop(self):\n",
    "    if(self.isEmpty()):\n",
    "      print(\"Stack underflow\")\n",
    "      return\n",
    "    data = self.head.getData()\n",
    "    self.head = self.head.getNext()\n",
    "    return data\n",
    "\n",
    "  def peek(self):\n",
    "    if(self.isEmpty()):\n",
    "      print(\"Stack underflow\")\n",
    "      return\n",
    "    data = self.head.getData() #No changes in the head\n",
    "    return data\n",
    "\n",
    "  def size(self):   #Find the current size of stack\n",
    "    size =0\n",
    "    temp = self.head\n",
    "    while(temp):\n",
    "      size +=1\n",
    "      temp=temp.getNext()\n",
    "    return size\n",
    "\n",
    "  def traverse(self):  #Traverse the elements of the stac\n",
    "    temp = self.head\n",
    "    while(temp):\n",
    "      print(temp.getData(), end=\" -> \")\n",
    "      temp = temp.getNext()"
   ]
  },
  {
   "cell_type": "code",
   "execution_count": null,
   "metadata": {
    "id": "n9m-hATyYIWr"
   },
   "outputs": [],
   "source": [
    "stack = StackLL()\n",
    "\n",
    "stack.push(7)\n",
    "stack.push(9)\n",
    "stack.push(3)"
   ]
  },
  {
   "cell_type": "code",
   "execution_count": null,
   "metadata": {
    "colab": {
     "base_uri": "https://localhost:8080/"
    },
    "id": "X1GLJjLscuqN",
    "outputId": "fe63ee97-0180-4114-d396-39cf37158000"
   },
   "outputs": [
    {
     "name": "stdout",
     "output_type": "stream",
     "text": [
      "3 -> 9 -> 7 -> \n"
     ]
    }
   ],
   "source": [
    "stack.traverse()\n",
    "print()"
   ]
  },
  {
   "cell_type": "code",
   "execution_count": null,
   "metadata": {
    "colab": {
     "base_uri": "https://localhost:8080/"
    },
    "id": "7F8szj5Fc0Xj",
    "outputId": "cd18b19b-729c-44f5-a7f6-bc185115f44a"
   },
   "outputs": [
    {
     "name": "stdout",
     "output_type": "stream",
     "text": [
      "3\n"
     ]
    }
   ],
   "source": [
    "print(stack.pop())"
   ]
  },
  {
   "cell_type": "code",
   "execution_count": null,
   "metadata": {
    "colab": {
     "base_uri": "https://localhost:8080/"
    },
    "id": "WOP3ADO_c3fP",
    "outputId": "2ba25e18-de60-4f19-98bd-bea28c002ecf"
   },
   "outputs": [
    {
     "name": "stdout",
     "output_type": "stream",
     "text": [
      "9 -> 7 -> "
     ]
    }
   ],
   "source": [
    "stack.traverse()"
   ]
  },
  {
   "cell_type": "markdown",
   "metadata": {
    "id": "RkcqBzDgc7CH"
   },
   "source": [
    "Balance paranthesis problem"
   ]
  },
  {
   "cell_type": "code",
   "execution_count": null,
   "metadata": {
    "id": "dSewJmXkc9zI"
   },
   "outputs": [],
   "source": [
    "def areBracketsBalanced(exp):\n",
    "\n",
    "  #Define a stack object\n",
    "  stack = StackLL()\n",
    "\n",
    "  #iterate through each bracket in the given exp\n",
    "  for c in exp :\n",
    "    if c in ['(','{','['] :\n",
    "      stack.push(c)  #if c is one of the opening bracket, then push to the stack\n",
    "    else :\n",
    "      if stack.isEmpty():\n",
    "        return False\n",
    "      char = stack.pop()\n",
    "      if  char == \"(\" and c != \")\":\n",
    "        return False\n",
    "      elif char == \"{\" and c != \"}\":\n",
    "        return False\n",
    "      elif char == \"[\" and c != \"]\":\n",
    "        return False\n",
    "  return stack.isEmpty()\n",
    "\n"
   ]
  },
  {
   "cell_type": "code",
   "execution_count": null,
   "metadata": {
    "colab": {
     "base_uri": "https://localhost:8080/"
    },
    "id": "Q1Xuqsn7fiZJ",
    "outputId": "a630ef5e-d372-4495-8a16-46bd7bfb45d4"
   },
   "outputs": [
    {
     "name": "stdout",
     "output_type": "stream",
     "text": [
      "False\n"
     ]
    }
   ],
   "source": [
    "print(areBracketsBalanced(\"{[{}}]\"))"
   ]
  },
  {
   "cell_type": "code",
   "execution_count": null,
   "metadata": {
    "colab": {
     "base_uri": "https://localhost:8080/"
    },
    "id": "cUMnMyC2fp1y",
    "outputId": "595dd085-546a-4e92-d751-63438e533f52"
   },
   "outputs": [
    {
     "data": {
      "text/plain": [
       "False"
      ]
     },
     "execution_count": 50,
     "metadata": {},
     "output_type": "execute_result"
    }
   ],
   "source": [
    "areBracketsBalanced(\"{{{[{}]]}}}\")"
   ]
  },
  {
   "cell_type": "markdown",
   "metadata": {
    "id": "gzT-IC-_heCS"
   },
   "source": [
    "Assignment Problem :\n",
    "\n",
    "Delete the middle element of the stack. And you are allowed to use only the push and pop methods of the stack. you can't manipulate the internal DS used to store the data"
   ]
  },
  {
   "cell_type": "code",
   "execution_count": null,
   "metadata": {
    "id": "k5SeQ1tEhf8Q"
   },
   "outputs": [],
   "source": [
    "def deleteMiddle(stack):\n",
    "  #Implement this method -> push/pop/peek\n",
    "  s2 = StackLL()\n",
    "\n",
    "  size = stack.size()\n",
    "\n",
    "  count = 0\n",
    "\n",
    "  while(count < int(size/2)):\n",
    "    s2.push(stack.pop())\n",
    "    count +=1\n",
    "  stack.pop()\n",
    "  while(not s2.isEmpty()):\n",
    "    stack.push(s2.pop())\n",
    "\n"
   ]
  },
  {
   "cell_type": "code",
   "execution_count": null,
   "metadata": {
    "id": "x_FfZGd7Mawu"
   },
   "outputs": [],
   "source": [
    "s = StackLL()\n",
    "s.push(5)\n",
    "s.push(9)\n",
    "s.push(9)\n",
    "s.push(9)\n",
    "s.push(2)"
   ]
  },
  {
   "cell_type": "code",
   "execution_count": null,
   "metadata": {
    "colab": {
     "base_uri": "https://localhost:8080/"
    },
    "id": "PTDWL8TeMjh9",
    "outputId": "d0a6c176-ed38-4c98-8ce0-49c02a6c6348"
   },
   "outputs": [
    {
     "name": "stdout",
     "output_type": "stream",
     "text": [
      "2 -> 9 -> 9 -> 9 -> 5 -> "
     ]
    }
   ],
   "source": [
    "s.traverse()"
   ]
  },
  {
   "cell_type": "code",
   "execution_count": null,
   "metadata": {
    "id": "HY-mcJ4fMtia"
   },
   "outputs": [],
   "source": [
    "deleteMiddle(s)"
   ]
  },
  {
   "cell_type": "code",
   "execution_count": null,
   "metadata": {
    "colab": {
     "base_uri": "https://localhost:8080/"
    },
    "id": "DXXV3C6mMwFO",
    "outputId": "e4a0c1ba-c1ef-4af2-d496-0de9d3a77f46"
   },
   "outputs": [
    {
     "name": "stdout",
     "output_type": "stream",
     "text": [
      "2 -> 9 -> 9 -> 5 -> "
     ]
    }
   ],
   "source": [
    "s.traverse()"
   ]
  },
  {
   "cell_type": "code",
   "execution_count": null,
   "metadata": {
    "id": "q2zsFw6POHgX"
   },
   "outputs": [],
   "source": [
    "def deleteMiddle(s,sizeOfStack, curr):\n",
    "  if (s.isEmpty() or curr == sizeOfStack):\n",
    "    return\n",
    "\n",
    "  #Remove the current item\n",
    "  x = s.pop()\n",
    "\n",
    "  #Recursively call the fn\n",
    "  deleteMiddle(s,sizeOfStack, curr+1)\n",
    "\n",
    "  #Put the item back\n",
    "  if(curr != int(sizeOfStack/2)):\n",
    "    s.push(x)"
   ]
  },
  {
   "cell_type": "code",
   "execution_count": null,
   "metadata": {
    "id": "A1VEMhbrRpv6"
   },
   "outputs": [],
   "source": [
    "s = StackLL()\n",
    "s.push(3)\n",
    "s.push(1)\n",
    "\n",
    "\n",
    "size = s.size()\n",
    "\n"
   ]
  },
  {
   "cell_type": "code",
   "execution_count": null,
   "metadata": {
    "colab": {
     "base_uri": "https://localhost:8080/"
    },
    "id": "9uMR4MQIR5H_",
    "outputId": "8fa5c1c8-0083-41c3-c9f8-443671d132ac"
   },
   "outputs": [
    {
     "name": "stdout",
     "output_type": "stream",
     "text": [
      "1 -> 3 -> "
     ]
    }
   ],
   "source": [
    "s.traverse()"
   ]
  },
  {
   "cell_type": "code",
   "execution_count": null,
   "metadata": {
    "id": "zS1mYdGgR0Oj"
   },
   "outputs": [],
   "source": [
    "deleteMiddle(s,size, 0)"
   ]
  },
  {
   "cell_type": "code",
   "execution_count": null,
   "metadata": {
    "colab": {
     "base_uri": "https://localhost:8080/"
    },
    "id": "edAt8kpfR8DM",
    "outputId": "7bf31937-b6d3-4824-9d3d-c2728addb60e"
   },
   "outputs": [
    {
     "name": "stdout",
     "output_type": "stream",
     "text": [
      "1 -> "
     ]
    }
   ],
   "source": [
    "s.traverse()"
   ]
  }
 ],
 "metadata": {
  "colab": {
   "provenance": []
  },
  "kernelspec": {
   "display_name": "Python 3 (ipykernel)",
   "language": "python",
   "name": "python3"
  },
  "language_info": {
   "codemirror_mode": {
    "name": "ipython",
    "version": 3
   },
   "file_extension": ".py",
   "mimetype": "text/x-python",
   "name": "python",
   "nbconvert_exporter": "python",
   "pygments_lexer": "ipython3",
   "version": "3.11.3"
  }
 },
 "nbformat": 4,
 "nbformat_minor": 1
}
